{
 "cells": [
  {
   "cell_type": "code",
   "execution_count": 1,
   "id": "fb2663ba-876b-43ee-a833-5d0307d707d7",
   "metadata": {},
   "outputs": [],
   "source": [
    "from sklearn.datasets import make_classification\n",
    "from sklearn.model_selection import train_test_split\n",
    "from sklearn.ensemble import AdaBoostClassifier, AdaBoostRegressor\n",
    "from sklearn.metrics import accuracy_score, classification_report, confusion_matrix, r2_score\n",
    "\n",
    "\n",
    "\n",
    "import warnings\n",
    "warnings.filterwarnings('ignore')"
   ]
  },
  {
   "cell_type": "code",
   "execution_count": 3,
   "id": "acac16e2-6197-4a21-b09b-3ecdb3137101",
   "metadata": {},
   "outputs": [],
   "source": [
    "x, y = make_classification(n_samples=1000, n_features=20, n_classes=2, random_state=1)"
   ]
  },
  {
   "cell_type": "code",
   "execution_count": 5,
   "id": "8b3c1810-6e52-4825-b225-5fac53c09080",
   "metadata": {},
   "outputs": [],
   "source": [
    "x_train,x_test,y_train,y_test=train_test_split(x,y,test_size=0.20,random_state=1)"
   ]
  },
  {
   "cell_type": "code",
   "execution_count": 9,
   "id": "fb9d9452-35d3-4732-98e8-c28f30883e88",
   "metadata": {},
   "outputs": [
    {
     "data": {
      "text/plain": [
       "((800, 20), (200, 20))"
      ]
     },
     "execution_count": 9,
     "metadata": {},
     "output_type": "execute_result"
    }
   ],
   "source": [
    "x_train.shape,x_test.shape"
   ]
  },
  {
   "cell_type": "code",
   "execution_count": 11,
   "id": "465e7eae-fea8-4a69-b677-7d4288082b7d",
   "metadata": {},
   "outputs": [],
   "source": [
    "classifier=AdaBoostClassifier()"
   ]
  },
  {
   "cell_type": "code",
   "execution_count": 13,
   "id": "1bfbbbe6-4863-4153-b924-f9cfb7bde7cf",
   "metadata": {},
   "outputs": [
    {
     "data": {
      "text/html": [
       "<style>#sk-container-id-1 {color: black;}#sk-container-id-1 pre{padding: 0;}#sk-container-id-1 div.sk-toggleable {background-color: white;}#sk-container-id-1 label.sk-toggleable__label {cursor: pointer;display: block;width: 100%;margin-bottom: 0;padding: 0.3em;box-sizing: border-box;text-align: center;}#sk-container-id-1 label.sk-toggleable__label-arrow:before {content: \"▸\";float: left;margin-right: 0.25em;color: #696969;}#sk-container-id-1 label.sk-toggleable__label-arrow:hover:before {color: black;}#sk-container-id-1 div.sk-estimator:hover label.sk-toggleable__label-arrow:before {color: black;}#sk-container-id-1 div.sk-toggleable__content {max-height: 0;max-width: 0;overflow: hidden;text-align: left;background-color: #f0f8ff;}#sk-container-id-1 div.sk-toggleable__content pre {margin: 0.2em;color: black;border-radius: 0.25em;background-color: #f0f8ff;}#sk-container-id-1 input.sk-toggleable__control:checked~div.sk-toggleable__content {max-height: 200px;max-width: 100%;overflow: auto;}#sk-container-id-1 input.sk-toggleable__control:checked~label.sk-toggleable__label-arrow:before {content: \"▾\";}#sk-container-id-1 div.sk-estimator input.sk-toggleable__control:checked~label.sk-toggleable__label {background-color: #d4ebff;}#sk-container-id-1 div.sk-label input.sk-toggleable__control:checked~label.sk-toggleable__label {background-color: #d4ebff;}#sk-container-id-1 input.sk-hidden--visually {border: 0;clip: rect(1px 1px 1px 1px);clip: rect(1px, 1px, 1px, 1px);height: 1px;margin: -1px;overflow: hidden;padding: 0;position: absolute;width: 1px;}#sk-container-id-1 div.sk-estimator {font-family: monospace;background-color: #f0f8ff;border: 1px dotted black;border-radius: 0.25em;box-sizing: border-box;margin-bottom: 0.5em;}#sk-container-id-1 div.sk-estimator:hover {background-color: #d4ebff;}#sk-container-id-1 div.sk-parallel-item::after {content: \"\";width: 100%;border-bottom: 1px solid gray;flex-grow: 1;}#sk-container-id-1 div.sk-label:hover label.sk-toggleable__label {background-color: #d4ebff;}#sk-container-id-1 div.sk-serial::before {content: \"\";position: absolute;border-left: 1px solid gray;box-sizing: border-box;top: 0;bottom: 0;left: 50%;z-index: 0;}#sk-container-id-1 div.sk-serial {display: flex;flex-direction: column;align-items: center;background-color: white;padding-right: 0.2em;padding-left: 0.2em;position: relative;}#sk-container-id-1 div.sk-item {position: relative;z-index: 1;}#sk-container-id-1 div.sk-parallel {display: flex;align-items: stretch;justify-content: center;background-color: white;position: relative;}#sk-container-id-1 div.sk-item::before, #sk-container-id-1 div.sk-parallel-item::before {content: \"\";position: absolute;border-left: 1px solid gray;box-sizing: border-box;top: 0;bottom: 0;left: 50%;z-index: -1;}#sk-container-id-1 div.sk-parallel-item {display: flex;flex-direction: column;z-index: 1;position: relative;background-color: white;}#sk-container-id-1 div.sk-parallel-item:first-child::after {align-self: flex-end;width: 50%;}#sk-container-id-1 div.sk-parallel-item:last-child::after {align-self: flex-start;width: 50%;}#sk-container-id-1 div.sk-parallel-item:only-child::after {width: 0;}#sk-container-id-1 div.sk-dashed-wrapped {border: 1px dashed gray;margin: 0 0.4em 0.5em 0.4em;box-sizing: border-box;padding-bottom: 0.4em;background-color: white;}#sk-container-id-1 div.sk-label label {font-family: monospace;font-weight: bold;display: inline-block;line-height: 1.2em;}#sk-container-id-1 div.sk-label-container {text-align: center;}#sk-container-id-1 div.sk-container {/* jupyter's `normalize.less` sets `[hidden] { display: none; }` but bootstrap.min.css set `[hidden] { display: none !important; }` so we also need the `!important` here to be able to override the default hidden behavior on the sphinx rendered scikit-learn.org. See: https://github.com/scikit-learn/scikit-learn/issues/21755 */display: inline-block !important;position: relative;}#sk-container-id-1 div.sk-text-repr-fallback {display: none;}</style><div id=\"sk-container-id-1\" class=\"sk-top-container\"><div class=\"sk-text-repr-fallback\"><pre>AdaBoostClassifier()</pre><b>In a Jupyter environment, please rerun this cell to show the HTML representation or trust the notebook. <br />On GitHub, the HTML representation is unable to render, please try loading this page with nbviewer.org.</b></div><div class=\"sk-container\" hidden><div class=\"sk-item\"><div class=\"sk-estimator sk-toggleable\"><input class=\"sk-toggleable__control sk-hidden--visually\" id=\"sk-estimator-id-1\" type=\"checkbox\" checked><label for=\"sk-estimator-id-1\" class=\"sk-toggleable__label sk-toggleable__label-arrow\">AdaBoostClassifier</label><div class=\"sk-toggleable__content\"><pre>AdaBoostClassifier()</pre></div></div></div></div></div>"
      ],
      "text/plain": [
       "AdaBoostClassifier()"
      ]
     },
     "execution_count": 13,
     "metadata": {},
     "output_type": "execute_result"
    }
   ],
   "source": [
    "classifier"
   ]
  },
  {
   "cell_type": "code",
   "execution_count": 19,
   "id": "f83847a7-046d-4cfb-9bde-7f994b1233b6",
   "metadata": {},
   "outputs": [
    {
     "data": {
      "text/html": [
       "<style>#sk-container-id-2 {color: black;}#sk-container-id-2 pre{padding: 0;}#sk-container-id-2 div.sk-toggleable {background-color: white;}#sk-container-id-2 label.sk-toggleable__label {cursor: pointer;display: block;width: 100%;margin-bottom: 0;padding: 0.3em;box-sizing: border-box;text-align: center;}#sk-container-id-2 label.sk-toggleable__label-arrow:before {content: \"▸\";float: left;margin-right: 0.25em;color: #696969;}#sk-container-id-2 label.sk-toggleable__label-arrow:hover:before {color: black;}#sk-container-id-2 div.sk-estimator:hover label.sk-toggleable__label-arrow:before {color: black;}#sk-container-id-2 div.sk-toggleable__content {max-height: 0;max-width: 0;overflow: hidden;text-align: left;background-color: #f0f8ff;}#sk-container-id-2 div.sk-toggleable__content pre {margin: 0.2em;color: black;border-radius: 0.25em;background-color: #f0f8ff;}#sk-container-id-2 input.sk-toggleable__control:checked~div.sk-toggleable__content {max-height: 200px;max-width: 100%;overflow: auto;}#sk-container-id-2 input.sk-toggleable__control:checked~label.sk-toggleable__label-arrow:before {content: \"▾\";}#sk-container-id-2 div.sk-estimator input.sk-toggleable__control:checked~label.sk-toggleable__label {background-color: #d4ebff;}#sk-container-id-2 div.sk-label input.sk-toggleable__control:checked~label.sk-toggleable__label {background-color: #d4ebff;}#sk-container-id-2 input.sk-hidden--visually {border: 0;clip: rect(1px 1px 1px 1px);clip: rect(1px, 1px, 1px, 1px);height: 1px;margin: -1px;overflow: hidden;padding: 0;position: absolute;width: 1px;}#sk-container-id-2 div.sk-estimator {font-family: monospace;background-color: #f0f8ff;border: 1px dotted black;border-radius: 0.25em;box-sizing: border-box;margin-bottom: 0.5em;}#sk-container-id-2 div.sk-estimator:hover {background-color: #d4ebff;}#sk-container-id-2 div.sk-parallel-item::after {content: \"\";width: 100%;border-bottom: 1px solid gray;flex-grow: 1;}#sk-container-id-2 div.sk-label:hover label.sk-toggleable__label {background-color: #d4ebff;}#sk-container-id-2 div.sk-serial::before {content: \"\";position: absolute;border-left: 1px solid gray;box-sizing: border-box;top: 0;bottom: 0;left: 50%;z-index: 0;}#sk-container-id-2 div.sk-serial {display: flex;flex-direction: column;align-items: center;background-color: white;padding-right: 0.2em;padding-left: 0.2em;position: relative;}#sk-container-id-2 div.sk-item {position: relative;z-index: 1;}#sk-container-id-2 div.sk-parallel {display: flex;align-items: stretch;justify-content: center;background-color: white;position: relative;}#sk-container-id-2 div.sk-item::before, #sk-container-id-2 div.sk-parallel-item::before {content: \"\";position: absolute;border-left: 1px solid gray;box-sizing: border-box;top: 0;bottom: 0;left: 50%;z-index: -1;}#sk-container-id-2 div.sk-parallel-item {display: flex;flex-direction: column;z-index: 1;position: relative;background-color: white;}#sk-container-id-2 div.sk-parallel-item:first-child::after {align-self: flex-end;width: 50%;}#sk-container-id-2 div.sk-parallel-item:last-child::after {align-self: flex-start;width: 50%;}#sk-container-id-2 div.sk-parallel-item:only-child::after {width: 0;}#sk-container-id-2 div.sk-dashed-wrapped {border: 1px dashed gray;margin: 0 0.4em 0.5em 0.4em;box-sizing: border-box;padding-bottom: 0.4em;background-color: white;}#sk-container-id-2 div.sk-label label {font-family: monospace;font-weight: bold;display: inline-block;line-height: 1.2em;}#sk-container-id-2 div.sk-label-container {text-align: center;}#sk-container-id-2 div.sk-container {/* jupyter's `normalize.less` sets `[hidden] { display: none; }` but bootstrap.min.css set `[hidden] { display: none !important; }` so we also need the `!important` here to be able to override the default hidden behavior on the sphinx rendered scikit-learn.org. See: https://github.com/scikit-learn/scikit-learn/issues/21755 */display: inline-block !important;position: relative;}#sk-container-id-2 div.sk-text-repr-fallback {display: none;}</style><div id=\"sk-container-id-2\" class=\"sk-top-container\"><div class=\"sk-text-repr-fallback\"><pre>AdaBoostClassifier()</pre><b>In a Jupyter environment, please rerun this cell to show the HTML representation or trust the notebook. <br />On GitHub, the HTML representation is unable to render, please try loading this page with nbviewer.org.</b></div><div class=\"sk-container\" hidden><div class=\"sk-item\"><div class=\"sk-estimator sk-toggleable\"><input class=\"sk-toggleable__control sk-hidden--visually\" id=\"sk-estimator-id-2\" type=\"checkbox\" checked><label for=\"sk-estimator-id-2\" class=\"sk-toggleable__label sk-toggleable__label-arrow\">AdaBoostClassifier</label><div class=\"sk-toggleable__content\"><pre>AdaBoostClassifier()</pre></div></div></div></div></div>"
      ],
      "text/plain": [
       "AdaBoostClassifier()"
      ]
     },
     "execution_count": 19,
     "metadata": {},
     "output_type": "execute_result"
    }
   ],
   "source": [
    "#n_estimator=>number of DT\n",
    "#learning rate=1.0 \n",
    "classifier.fit(x_train,y_train)"
   ]
  },
  {
   "cell_type": "code",
   "execution_count": 21,
   "id": "d63a5522-e8fd-44ec-a434-8d67a8dbb1a2",
   "metadata": {},
   "outputs": [],
   "source": [
    "y_pred=classifier.predict(x_test)"
   ]
  },
  {
   "cell_type": "code",
   "execution_count": 23,
   "id": "04114890-bd80-4a37-a08a-2cdd2833e406",
   "metadata": {},
   "outputs": [
    {
     "data": {
      "text/plain": [
       "array([0, 1, 1, 1, 1, 0, 1, 1, 0, 0, 1, 1, 1, 0, 1, 0, 1, 0, 0, 0, 0, 1,\n",
       "       0, 1, 1, 0, 1, 0, 0, 1, 1, 1, 0, 1, 1, 1, 0, 1, 0, 1, 1, 0, 1, 1,\n",
       "       1, 0, 0, 1, 0, 1, 1, 1, 1, 1, 0, 0, 1, 1, 1, 0, 0, 0, 0, 0, 1, 1,\n",
       "       0, 1, 1, 1, 1, 1, 0, 0, 1, 1, 1, 0, 0, 1, 1, 1, 1, 1, 1, 0, 1, 1,\n",
       "       1, 1, 1, 1, 0, 0, 1, 0, 0, 1, 0, 0, 1, 0, 1, 0, 0, 0, 0, 0, 1, 1,\n",
       "       1, 1, 0, 0, 0, 0, 1, 1, 0, 0, 0, 1, 1, 1, 1, 1, 0, 0, 1, 0, 1, 1,\n",
       "       1, 1, 1, 1, 0, 1, 0, 1, 1, 1, 1, 1, 0, 0, 0, 0, 1, 0, 1, 0, 0, 0,\n",
       "       0, 0, 1, 1, 1, 1, 0, 0, 0, 1, 1, 1, 1, 0, 1, 1, 0, 1, 1, 1, 0, 0,\n",
       "       1, 0, 0, 1, 1, 0, 1, 1, 0, 1, 0, 1, 0, 1, 1, 0, 0, 0, 0, 0, 0, 0,\n",
       "       1, 1])"
      ]
     },
     "execution_count": 23,
     "metadata": {},
     "output_type": "execute_result"
    }
   ],
   "source": [
    "y_pred"
   ]
  },
  {
   "cell_type": "code",
   "execution_count": 25,
   "id": "1e794ba7-16e3-472e-9013-7ddf4bcc05ee",
   "metadata": {},
   "outputs": [
    {
     "name": "stdout",
     "output_type": "stream",
     "text": [
      "acc 0.85\n",
      "clf_report               precision    recall  f1-score   support\n",
      "\n",
      "           0       0.84      0.82      0.83        90\n",
      "           1       0.86      0.87      0.86       110\n",
      "\n",
      "    accuracy                           0.85       200\n",
      "   macro avg       0.85      0.85      0.85       200\n",
      "weighted avg       0.85      0.85      0.85       200\n",
      "\n",
      "con_mat [[74 16]\n",
      " [14 96]]\n"
     ]
    }
   ],
   "source": [
    "print(\"acc\", accuracy_score(y_test, y_pred))\n",
    "print(\"clf_report\", classification_report(y_test, y_pred))\n",
    "print(\"con_mat\", confusion_matrix(y_test, y_pred))"
   ]
  },
  {
   "cell_type": "code",
   "execution_count": 27,
   "id": "9c79e9d7-1c29-4eea-b88f-678b30245612",
   "metadata": {},
   "outputs": [],
   "source": [
    "#Hyperparameter tuning\n",
    "from sklearn.model_selection import GridSearchCV"
   ]
  },
  {
   "cell_type": "code",
   "execution_count": 29,
   "id": "28ec109a-6e32-4b5a-9758-499d155a0cd9",
   "metadata": {},
   "outputs": [],
   "source": [
    "params={\"n_estimators\":[50,100,200],\"learning_rate\": [0.001, 0.1, 1, 1.5, 2, 2.5],\n",
    "             \"algorithm\": [\"SAMME.R\", \"SAMME\"]}"
   ]
  },
  {
   "cell_type": "code",
   "execution_count": 31,
   "id": "45aaa665-a0f7-474a-ba96-aba1de3853f4",
   "metadata": {},
   "outputs": [
    {
     "data": {
      "text/plain": [
       "{'n_estimators': [50, 100, 200],\n",
       " 'learning_rate': [0.001, 0.1, 1, 1.5, 2, 2.5],\n",
       " 'algorithm': ['SAMME.R', 'SAMME']}"
      ]
     },
     "execution_count": 31,
     "metadata": {},
     "output_type": "execute_result"
    }
   ],
   "source": [
    "params"
   ]
  },
  {
   "cell_type": "code",
   "execution_count": 33,
   "id": "357b49f4-eb47-4578-84d5-c46c55241360",
   "metadata": {},
   "outputs": [],
   "source": [
    "ada=AdaBoostClassifier()\n",
    "clf=GridSearchCV(estimator=ada,param_grid=params,cv=5,verbose=3)"
   ]
  },
  {
   "cell_type": "code",
   "execution_count": 35,
   "id": "05007a8c-67a2-4d0a-bd68-5db57d377f95",
   "metadata": {},
   "outputs": [
    {
     "data": {
      "text/html": [
       "<style>#sk-container-id-3 {color: black;}#sk-container-id-3 pre{padding: 0;}#sk-container-id-3 div.sk-toggleable {background-color: white;}#sk-container-id-3 label.sk-toggleable__label {cursor: pointer;display: block;width: 100%;margin-bottom: 0;padding: 0.3em;box-sizing: border-box;text-align: center;}#sk-container-id-3 label.sk-toggleable__label-arrow:before {content: \"▸\";float: left;margin-right: 0.25em;color: #696969;}#sk-container-id-3 label.sk-toggleable__label-arrow:hover:before {color: black;}#sk-container-id-3 div.sk-estimator:hover label.sk-toggleable__label-arrow:before {color: black;}#sk-container-id-3 div.sk-toggleable__content {max-height: 0;max-width: 0;overflow: hidden;text-align: left;background-color: #f0f8ff;}#sk-container-id-3 div.sk-toggleable__content pre {margin: 0.2em;color: black;border-radius: 0.25em;background-color: #f0f8ff;}#sk-container-id-3 input.sk-toggleable__control:checked~div.sk-toggleable__content {max-height: 200px;max-width: 100%;overflow: auto;}#sk-container-id-3 input.sk-toggleable__control:checked~label.sk-toggleable__label-arrow:before {content: \"▾\";}#sk-container-id-3 div.sk-estimator input.sk-toggleable__control:checked~label.sk-toggleable__label {background-color: #d4ebff;}#sk-container-id-3 div.sk-label input.sk-toggleable__control:checked~label.sk-toggleable__label {background-color: #d4ebff;}#sk-container-id-3 input.sk-hidden--visually {border: 0;clip: rect(1px 1px 1px 1px);clip: rect(1px, 1px, 1px, 1px);height: 1px;margin: -1px;overflow: hidden;padding: 0;position: absolute;width: 1px;}#sk-container-id-3 div.sk-estimator {font-family: monospace;background-color: #f0f8ff;border: 1px dotted black;border-radius: 0.25em;box-sizing: border-box;margin-bottom: 0.5em;}#sk-container-id-3 div.sk-estimator:hover {background-color: #d4ebff;}#sk-container-id-3 div.sk-parallel-item::after {content: \"\";width: 100%;border-bottom: 1px solid gray;flex-grow: 1;}#sk-container-id-3 div.sk-label:hover label.sk-toggleable__label {background-color: #d4ebff;}#sk-container-id-3 div.sk-serial::before {content: \"\";position: absolute;border-left: 1px solid gray;box-sizing: border-box;top: 0;bottom: 0;left: 50%;z-index: 0;}#sk-container-id-3 div.sk-serial {display: flex;flex-direction: column;align-items: center;background-color: white;padding-right: 0.2em;padding-left: 0.2em;position: relative;}#sk-container-id-3 div.sk-item {position: relative;z-index: 1;}#sk-container-id-3 div.sk-parallel {display: flex;align-items: stretch;justify-content: center;background-color: white;position: relative;}#sk-container-id-3 div.sk-item::before, #sk-container-id-3 div.sk-parallel-item::before {content: \"\";position: absolute;border-left: 1px solid gray;box-sizing: border-box;top: 0;bottom: 0;left: 50%;z-index: -1;}#sk-container-id-3 div.sk-parallel-item {display: flex;flex-direction: column;z-index: 1;position: relative;background-color: white;}#sk-container-id-3 div.sk-parallel-item:first-child::after {align-self: flex-end;width: 50%;}#sk-container-id-3 div.sk-parallel-item:last-child::after {align-self: flex-start;width: 50%;}#sk-container-id-3 div.sk-parallel-item:only-child::after {width: 0;}#sk-container-id-3 div.sk-dashed-wrapped {border: 1px dashed gray;margin: 0 0.4em 0.5em 0.4em;box-sizing: border-box;padding-bottom: 0.4em;background-color: white;}#sk-container-id-3 div.sk-label label {font-family: monospace;font-weight: bold;display: inline-block;line-height: 1.2em;}#sk-container-id-3 div.sk-label-container {text-align: center;}#sk-container-id-3 div.sk-container {/* jupyter's `normalize.less` sets `[hidden] { display: none; }` but bootstrap.min.css set `[hidden] { display: none !important; }` so we also need the `!important` here to be able to override the default hidden behavior on the sphinx rendered scikit-learn.org. See: https://github.com/scikit-learn/scikit-learn/issues/21755 */display: inline-block !important;position: relative;}#sk-container-id-3 div.sk-text-repr-fallback {display: none;}</style><div id=\"sk-container-id-3\" class=\"sk-top-container\"><div class=\"sk-text-repr-fallback\"><pre>GridSearchCV(cv=5, estimator=AdaBoostClassifier(),\n",
       "             param_grid={&#x27;algorithm&#x27;: [&#x27;SAMME.R&#x27;, &#x27;SAMME&#x27;],\n",
       "                         &#x27;learning_rate&#x27;: [0.001, 0.1, 1, 1.5, 2, 2.5],\n",
       "                         &#x27;n_estimators&#x27;: [50, 100, 200]},\n",
       "             verbose=3)</pre><b>In a Jupyter environment, please rerun this cell to show the HTML representation or trust the notebook. <br />On GitHub, the HTML representation is unable to render, please try loading this page with nbviewer.org.</b></div><div class=\"sk-container\" hidden><div class=\"sk-item sk-dashed-wrapped\"><div class=\"sk-label-container\"><div class=\"sk-label sk-toggleable\"><input class=\"sk-toggleable__control sk-hidden--visually\" id=\"sk-estimator-id-3\" type=\"checkbox\" ><label for=\"sk-estimator-id-3\" class=\"sk-toggleable__label sk-toggleable__label-arrow\">GridSearchCV</label><div class=\"sk-toggleable__content\"><pre>GridSearchCV(cv=5, estimator=AdaBoostClassifier(),\n",
       "             param_grid={&#x27;algorithm&#x27;: [&#x27;SAMME.R&#x27;, &#x27;SAMME&#x27;],\n",
       "                         &#x27;learning_rate&#x27;: [0.001, 0.1, 1, 1.5, 2, 2.5],\n",
       "                         &#x27;n_estimators&#x27;: [50, 100, 200]},\n",
       "             verbose=3)</pre></div></div></div><div class=\"sk-parallel\"><div class=\"sk-parallel-item\"><div class=\"sk-item\"><div class=\"sk-label-container\"><div class=\"sk-label sk-toggleable\"><input class=\"sk-toggleable__control sk-hidden--visually\" id=\"sk-estimator-id-4\" type=\"checkbox\" ><label for=\"sk-estimator-id-4\" class=\"sk-toggleable__label sk-toggleable__label-arrow\">estimator: AdaBoostClassifier</label><div class=\"sk-toggleable__content\"><pre>AdaBoostClassifier()</pre></div></div></div><div class=\"sk-serial\"><div class=\"sk-item\"><div class=\"sk-estimator sk-toggleable\"><input class=\"sk-toggleable__control sk-hidden--visually\" id=\"sk-estimator-id-5\" type=\"checkbox\" ><label for=\"sk-estimator-id-5\" class=\"sk-toggleable__label sk-toggleable__label-arrow\">AdaBoostClassifier</label><div class=\"sk-toggleable__content\"><pre>AdaBoostClassifier()</pre></div></div></div></div></div></div></div></div></div></div>"
      ],
      "text/plain": [
       "GridSearchCV(cv=5, estimator=AdaBoostClassifier(),\n",
       "             param_grid={'algorithm': ['SAMME.R', 'SAMME'],\n",
       "                         'learning_rate': [0.001, 0.1, 1, 1.5, 2, 2.5],\n",
       "                         'n_estimators': [50, 100, 200]},\n",
       "             verbose=3)"
      ]
     },
     "execution_count": 35,
     "metadata": {},
     "output_type": "execute_result"
    }
   ],
   "source": [
    "clf"
   ]
  },
  {
   "cell_type": "code",
   "execution_count": 37,
   "id": "42bcdf3e-8906-455c-a383-032ecb349c96",
   "metadata": {},
   "outputs": [
    {
     "name": "stdout",
     "output_type": "stream",
     "text": [
      "Fitting 5 folds for each of 36 candidates, totalling 180 fits\n",
      "[CV 1/5] END algorithm=SAMME.R, learning_rate=0.001, n_estimators=50;, score=0.831 total time=   0.4s\n",
      "[CV 2/5] END algorithm=SAMME.R, learning_rate=0.001, n_estimators=50;, score=0.856 total time=   0.3s\n",
      "[CV 3/5] END algorithm=SAMME.R, learning_rate=0.001, n_estimators=50;, score=0.881 total time=   0.3s\n",
      "[CV 4/5] END algorithm=SAMME.R, learning_rate=0.001, n_estimators=50;, score=0.819 total time=   0.3s\n",
      "[CV 5/5] END algorithm=SAMME.R, learning_rate=0.001, n_estimators=50;, score=0.838 total time=   0.3s\n",
      "[CV 1/5] END algorithm=SAMME.R, learning_rate=0.001, n_estimators=100;, score=0.831 total time=   0.7s\n",
      "[CV 2/5] END algorithm=SAMME.R, learning_rate=0.001, n_estimators=100;, score=0.856 total time=   0.7s\n",
      "[CV 3/5] END algorithm=SAMME.R, learning_rate=0.001, n_estimators=100;, score=0.881 total time=   0.8s\n",
      "[CV 4/5] END algorithm=SAMME.R, learning_rate=0.001, n_estimators=100;, score=0.819 total time=   0.9s\n",
      "[CV 5/5] END algorithm=SAMME.R, learning_rate=0.001, n_estimators=100;, score=0.838 total time=   0.7s\n",
      "[CV 1/5] END algorithm=SAMME.R, learning_rate=0.001, n_estimators=200;, score=0.831 total time=   1.5s\n",
      "[CV 2/5] END algorithm=SAMME.R, learning_rate=0.001, n_estimators=200;, score=0.856 total time=   1.5s\n",
      "[CV 3/5] END algorithm=SAMME.R, learning_rate=0.001, n_estimators=200;, score=0.881 total time=   1.5s\n",
      "[CV 4/5] END algorithm=SAMME.R, learning_rate=0.001, n_estimators=200;, score=0.819 total time=   1.4s\n",
      "[CV 5/5] END algorithm=SAMME.R, learning_rate=0.001, n_estimators=200;, score=0.838 total time=   1.4s\n",
      "[CV 1/5] END algorithm=SAMME.R, learning_rate=0.1, n_estimators=50;, score=0.831 total time=   0.3s\n",
      "[CV 2/5] END algorithm=SAMME.R, learning_rate=0.1, n_estimators=50;, score=0.875 total time=   0.3s\n",
      "[CV 3/5] END algorithm=SAMME.R, learning_rate=0.1, n_estimators=50;, score=0.887 total time=   0.3s\n",
      "[CV 4/5] END algorithm=SAMME.R, learning_rate=0.1, n_estimators=50;, score=0.850 total time=   0.3s\n",
      "[CV 5/5] END algorithm=SAMME.R, learning_rate=0.1, n_estimators=50;, score=0.838 total time=   0.3s\n",
      "[CV 1/5] END algorithm=SAMME.R, learning_rate=0.1, n_estimators=100;, score=0.831 total time=   0.8s\n",
      "[CV 2/5] END algorithm=SAMME.R, learning_rate=0.1, n_estimators=100;, score=0.869 total time=   0.8s\n",
      "[CV 3/5] END algorithm=SAMME.R, learning_rate=0.1, n_estimators=100;, score=0.900 total time=   0.7s\n",
      "[CV 4/5] END algorithm=SAMME.R, learning_rate=0.1, n_estimators=100;, score=0.856 total time=   0.7s\n",
      "[CV 5/5] END algorithm=SAMME.R, learning_rate=0.1, n_estimators=100;, score=0.850 total time=   0.7s\n",
      "[CV 1/5] END algorithm=SAMME.R, learning_rate=0.1, n_estimators=200;, score=0.844 total time=   1.4s\n",
      "[CV 2/5] END algorithm=SAMME.R, learning_rate=0.1, n_estimators=200;, score=0.869 total time=   1.5s\n",
      "[CV 3/5] END algorithm=SAMME.R, learning_rate=0.1, n_estimators=200;, score=0.875 total time=   1.5s\n",
      "[CV 4/5] END algorithm=SAMME.R, learning_rate=0.1, n_estimators=200;, score=0.856 total time=   1.4s\n",
      "[CV 5/5] END algorithm=SAMME.R, learning_rate=0.1, n_estimators=200;, score=0.875 total time=   1.5s\n",
      "[CV 1/5] END algorithm=SAMME.R, learning_rate=1, n_estimators=50;, score=0.794 total time=   0.3s\n",
      "[CV 2/5] END algorithm=SAMME.R, learning_rate=1, n_estimators=50;, score=0.863 total time=   0.3s\n",
      "[CV 3/5] END algorithm=SAMME.R, learning_rate=1, n_estimators=50;, score=0.850 total time=   0.3s\n",
      "[CV 4/5] END algorithm=SAMME.R, learning_rate=1, n_estimators=50;, score=0.825 total time=   0.3s\n",
      "[CV 5/5] END algorithm=SAMME.R, learning_rate=1, n_estimators=50;, score=0.838 total time=   0.3s\n",
      "[CV 1/5] END algorithm=SAMME.R, learning_rate=1, n_estimators=100;, score=0.775 total time=   0.7s\n",
      "[CV 2/5] END algorithm=SAMME.R, learning_rate=1, n_estimators=100;, score=0.875 total time=   0.7s\n",
      "[CV 3/5] END algorithm=SAMME.R, learning_rate=1, n_estimators=100;, score=0.831 total time=   0.7s\n",
      "[CV 4/5] END algorithm=SAMME.R, learning_rate=1, n_estimators=100;, score=0.806 total time=   0.7s\n",
      "[CV 5/5] END algorithm=SAMME.R, learning_rate=1, n_estimators=100;, score=0.812 total time=   0.7s\n",
      "[CV 1/5] END algorithm=SAMME.R, learning_rate=1, n_estimators=200;, score=0.806 total time=   1.6s\n",
      "[CV 2/5] END algorithm=SAMME.R, learning_rate=1, n_estimators=200;, score=0.838 total time=   1.6s\n",
      "[CV 3/5] END algorithm=SAMME.R, learning_rate=1, n_estimators=200;, score=0.825 total time=   1.4s\n",
      "[CV 4/5] END algorithm=SAMME.R, learning_rate=1, n_estimators=200;, score=0.825 total time=   1.4s\n",
      "[CV 5/5] END algorithm=SAMME.R, learning_rate=1, n_estimators=200;, score=0.812 total time=   1.4s\n",
      "[CV 1/5] END algorithm=SAMME.R, learning_rate=1.5, n_estimators=50;, score=0.812 total time=   0.3s\n",
      "[CV 2/5] END algorithm=SAMME.R, learning_rate=1.5, n_estimators=50;, score=0.806 total time=   0.3s\n",
      "[CV 3/5] END algorithm=SAMME.R, learning_rate=1.5, n_estimators=50;, score=0.875 total time=   0.3s\n",
      "[CV 4/5] END algorithm=SAMME.R, learning_rate=1.5, n_estimators=50;, score=0.787 total time=   0.3s\n",
      "[CV 5/5] END algorithm=SAMME.R, learning_rate=1.5, n_estimators=50;, score=0.800 total time=   0.3s\n",
      "[CV 1/5] END algorithm=SAMME.R, learning_rate=1.5, n_estimators=100;, score=0.831 total time=   0.7s\n",
      "[CV 2/5] END algorithm=SAMME.R, learning_rate=1.5, n_estimators=100;, score=0.819 total time=   0.7s\n",
      "[CV 3/5] END algorithm=SAMME.R, learning_rate=1.5, n_estimators=100;, score=0.844 total time=   0.7s\n",
      "[CV 4/5] END algorithm=SAMME.R, learning_rate=1.5, n_estimators=100;, score=0.819 total time=   0.7s\n",
      "[CV 5/5] END algorithm=SAMME.R, learning_rate=1.5, n_estimators=100;, score=0.812 total time=   0.7s\n",
      "[CV 1/5] END algorithm=SAMME.R, learning_rate=1.5, n_estimators=200;, score=0.806 total time=   1.4s\n",
      "[CV 2/5] END algorithm=SAMME.R, learning_rate=1.5, n_estimators=200;, score=0.825 total time=   1.4s\n",
      "[CV 3/5] END algorithm=SAMME.R, learning_rate=1.5, n_estimators=200;, score=0.838 total time=   1.4s\n",
      "[CV 4/5] END algorithm=SAMME.R, learning_rate=1.5, n_estimators=200;, score=0.825 total time=   1.5s\n",
      "[CV 5/5] END algorithm=SAMME.R, learning_rate=1.5, n_estimators=200;, score=0.794 total time=   1.4s\n",
      "[CV 1/5] END algorithm=SAMME.R, learning_rate=2, n_estimators=50;, score=0.181 total time=   0.3s\n",
      "[CV 2/5] END algorithm=SAMME.R, learning_rate=2, n_estimators=50;, score=0.150 total time=   0.3s\n",
      "[CV 3/5] END algorithm=SAMME.R, learning_rate=2, n_estimators=50;, score=0.119 total time=   0.3s\n",
      "[CV 4/5] END algorithm=SAMME.R, learning_rate=2, n_estimators=50;, score=0.169 total time=   0.3s\n",
      "[CV 5/5] END algorithm=SAMME.R, learning_rate=2, n_estimators=50;, score=0.144 total time=   0.3s\n",
      "[CV 1/5] END algorithm=SAMME.R, learning_rate=2, n_estimators=100;, score=0.181 total time=   0.7s\n",
      "[CV 2/5] END algorithm=SAMME.R, learning_rate=2, n_estimators=100;, score=0.212 total time=   0.7s\n",
      "[CV 3/5] END algorithm=SAMME.R, learning_rate=2, n_estimators=100;, score=0.250 total time=   0.7s\n",
      "[CV 4/5] END algorithm=SAMME.R, learning_rate=2, n_estimators=100;, score=0.200 total time=   0.7s\n",
      "[CV 5/5] END algorithm=SAMME.R, learning_rate=2, n_estimators=100;, score=0.138 total time=   0.7s\n",
      "[CV 1/5] END algorithm=SAMME.R, learning_rate=2, n_estimators=200;, score=0.256 total time=   1.4s\n",
      "[CV 2/5] END algorithm=SAMME.R, learning_rate=2, n_estimators=200;, score=0.569 total time=   1.4s\n",
      "[CV 3/5] END algorithm=SAMME.R, learning_rate=2, n_estimators=200;, score=0.562 total time=   1.4s\n",
      "[CV 4/5] END algorithm=SAMME.R, learning_rate=2, n_estimators=200;, score=0.481 total time=   1.4s\n",
      "[CV 5/5] END algorithm=SAMME.R, learning_rate=2, n_estimators=200;, score=0.194 total time=   1.4s\n",
      "[CV 1/5] END algorithm=SAMME.R, learning_rate=2.5, n_estimators=50;, score=0.525 total time=   0.3s\n",
      "[CV 2/5] END algorithm=SAMME.R, learning_rate=2.5, n_estimators=50;, score=0.575 total time=   0.3s\n",
      "[CV 3/5] END algorithm=SAMME.R, learning_rate=2.5, n_estimators=50;, score=0.600 total time=   0.3s\n",
      "[CV 4/5] END algorithm=SAMME.R, learning_rate=2.5, n_estimators=50;, score=0.606 total time=   0.4s\n",
      "[CV 5/5] END algorithm=SAMME.R, learning_rate=2.5, n_estimators=50;, score=0.600 total time=   0.3s\n",
      "[CV 1/5] END algorithm=SAMME.R, learning_rate=2.5, n_estimators=100;, score=0.525 total time=   0.7s\n",
      "[CV 2/5] END algorithm=SAMME.R, learning_rate=2.5, n_estimators=100;, score=0.575 total time=   0.7s\n",
      "[CV 3/5] END algorithm=SAMME.R, learning_rate=2.5, n_estimators=100;, score=0.569 total time=   0.7s\n",
      "[CV 4/5] END algorithm=SAMME.R, learning_rate=2.5, n_estimators=100;, score=0.775 total time=   0.7s\n",
      "[CV 5/5] END algorithm=SAMME.R, learning_rate=2.5, n_estimators=100;, score=0.600 total time=   0.7s\n",
      "[CV 1/5] END algorithm=SAMME.R, learning_rate=2.5, n_estimators=200;, score=0.525 total time=   1.4s\n",
      "[CV 2/5] END algorithm=SAMME.R, learning_rate=2.5, n_estimators=200;, score=0.575 total time=   1.4s\n",
      "[CV 3/5] END algorithm=SAMME.R, learning_rate=2.5, n_estimators=200;, score=0.569 total time=   1.4s\n",
      "[CV 4/5] END algorithm=SAMME.R, learning_rate=2.5, n_estimators=200;, score=0.775 total time=   1.5s\n",
      "[CV 5/5] END algorithm=SAMME.R, learning_rate=2.5, n_estimators=200;, score=0.600 total time=   1.4s\n",
      "[CV 1/5] END algorithm=SAMME, learning_rate=0.001, n_estimators=50;, score=0.831 total time=   0.3s\n",
      "[CV 2/5] END algorithm=SAMME, learning_rate=0.001, n_estimators=50;, score=0.856 total time=   0.3s\n",
      "[CV 3/5] END algorithm=SAMME, learning_rate=0.001, n_estimators=50;, score=0.881 total time=   0.3s\n",
      "[CV 4/5] END algorithm=SAMME, learning_rate=0.001, n_estimators=50;, score=0.819 total time=   0.3s\n",
      "[CV 5/5] END algorithm=SAMME, learning_rate=0.001, n_estimators=50;, score=0.838 total time=   0.3s\n",
      "[CV 1/5] END algorithm=SAMME, learning_rate=0.001, n_estimators=100;, score=0.831 total time=   0.6s\n",
      "[CV 2/5] END algorithm=SAMME, learning_rate=0.001, n_estimators=100;, score=0.856 total time=   0.6s\n",
      "[CV 3/5] END algorithm=SAMME, learning_rate=0.001, n_estimators=100;, score=0.881 total time=   0.6s\n",
      "[CV 4/5] END algorithm=SAMME, learning_rate=0.001, n_estimators=100;, score=0.819 total time=   0.6s\n",
      "[CV 5/5] END algorithm=SAMME, learning_rate=0.001, n_estimators=100;, score=0.838 total time=   0.6s\n",
      "[CV 1/5] END algorithm=SAMME, learning_rate=0.001, n_estimators=200;, score=0.831 total time=   1.4s\n",
      "[CV 2/5] END algorithm=SAMME, learning_rate=0.001, n_estimators=200;, score=0.856 total time=   1.4s\n",
      "[CV 3/5] END algorithm=SAMME, learning_rate=0.001, n_estimators=200;, score=0.881 total time=   1.4s\n",
      "[CV 4/5] END algorithm=SAMME, learning_rate=0.001, n_estimators=200;, score=0.819 total time=   1.4s\n",
      "[CV 5/5] END algorithm=SAMME, learning_rate=0.001, n_estimators=200;, score=0.838 total time=   1.3s\n",
      "[CV 1/5] END algorithm=SAMME, learning_rate=0.1, n_estimators=50;, score=0.831 total time=   0.3s\n",
      "[CV 2/5] END algorithm=SAMME, learning_rate=0.1, n_estimators=50;, score=0.856 total time=   0.3s\n",
      "[CV 3/5] END algorithm=SAMME, learning_rate=0.1, n_estimators=50;, score=0.881 total time=   0.3s\n",
      "[CV 4/5] END algorithm=SAMME, learning_rate=0.1, n_estimators=50;, score=0.856 total time=   0.3s\n",
      "[CV 5/5] END algorithm=SAMME, learning_rate=0.1, n_estimators=50;, score=0.838 total time=   0.3s\n",
      "[CV 1/5] END algorithm=SAMME, learning_rate=0.1, n_estimators=100;, score=0.831 total time=   0.7s\n",
      "[CV 2/5] END algorithm=SAMME, learning_rate=0.1, n_estimators=100;, score=0.856 total time=   0.6s\n",
      "[CV 3/5] END algorithm=SAMME, learning_rate=0.1, n_estimators=100;, score=0.887 total time=   0.6s\n",
      "[CV 4/5] END algorithm=SAMME, learning_rate=0.1, n_estimators=100;, score=0.856 total time=   0.6s\n",
      "[CV 5/5] END algorithm=SAMME, learning_rate=0.1, n_estimators=100;, score=0.838 total time=   0.6s\n",
      "[CV 1/5] END algorithm=SAMME, learning_rate=0.1, n_estimators=200;, score=0.831 total time=   1.4s\n",
      "[CV 2/5] END algorithm=SAMME, learning_rate=0.1, n_estimators=200;, score=0.875 total time=   1.3s\n",
      "[CV 3/5] END algorithm=SAMME, learning_rate=0.1, n_estimators=200;, score=0.881 total time=   1.4s\n",
      "[CV 4/5] END algorithm=SAMME, learning_rate=0.1, n_estimators=200;, score=0.856 total time=   1.4s\n",
      "[CV 5/5] END algorithm=SAMME, learning_rate=0.1, n_estimators=200;, score=0.850 total time=   1.3s\n",
      "[CV 1/5] END algorithm=SAMME, learning_rate=1, n_estimators=50;, score=0.844 total time=   0.3s\n",
      "[CV 2/5] END algorithm=SAMME, learning_rate=1, n_estimators=50;, score=0.850 total time=   0.3s\n",
      "[CV 3/5] END algorithm=SAMME, learning_rate=1, n_estimators=50;, score=0.887 total time=   0.3s\n",
      "[CV 4/5] END algorithm=SAMME, learning_rate=1, n_estimators=50;, score=0.825 total time=   0.3s\n",
      "[CV 5/5] END algorithm=SAMME, learning_rate=1, n_estimators=50;, score=0.856 total time=   0.3s\n",
      "[CV 1/5] END algorithm=SAMME, learning_rate=1, n_estimators=100;, score=0.844 total time=   0.6s\n",
      "[CV 2/5] END algorithm=SAMME, learning_rate=1, n_estimators=100;, score=0.869 total time=   0.6s\n",
      "[CV 3/5] END algorithm=SAMME, learning_rate=1, n_estimators=100;, score=0.887 total time=   0.6s\n",
      "[CV 4/5] END algorithm=SAMME, learning_rate=1, n_estimators=100;, score=0.812 total time=   0.6s\n",
      "[CV 5/5] END algorithm=SAMME, learning_rate=1, n_estimators=100;, score=0.850 total time=   0.6s\n",
      "[CV 1/5] END algorithm=SAMME, learning_rate=1, n_estimators=200;, score=0.838 total time=   1.4s\n",
      "[CV 2/5] END algorithm=SAMME, learning_rate=1, n_estimators=200;, score=0.850 total time=   1.4s\n",
      "[CV 3/5] END algorithm=SAMME, learning_rate=1, n_estimators=200;, score=0.900 total time=   1.4s\n",
      "[CV 4/5] END algorithm=SAMME, learning_rate=1, n_estimators=200;, score=0.812 total time=   1.5s\n",
      "[CV 5/5] END algorithm=SAMME, learning_rate=1, n_estimators=200;, score=0.838 total time=   1.5s\n",
      "[CV 1/5] END algorithm=SAMME, learning_rate=1.5, n_estimators=50;, score=0.819 total time=   0.3s\n",
      "[CV 2/5] END algorithm=SAMME, learning_rate=1.5, n_estimators=50;, score=0.838 total time=   0.3s\n",
      "[CV 3/5] END algorithm=SAMME, learning_rate=1.5, n_estimators=50;, score=0.844 total time=   0.3s\n",
      "[CV 4/5] END algorithm=SAMME, learning_rate=1.5, n_estimators=50;, score=0.819 total time=   0.3s\n",
      "[CV 5/5] END algorithm=SAMME, learning_rate=1.5, n_estimators=50;, score=0.838 total time=   0.3s\n",
      "[CV 1/5] END algorithm=SAMME, learning_rate=1.5, n_estimators=100;, score=0.838 total time=   0.7s\n",
      "[CV 2/5] END algorithm=SAMME, learning_rate=1.5, n_estimators=100;, score=0.850 total time=   0.7s\n",
      "[CV 3/5] END algorithm=SAMME, learning_rate=1.5, n_estimators=100;, score=0.869 total time=   0.6s\n",
      "[CV 4/5] END algorithm=SAMME, learning_rate=1.5, n_estimators=100;, score=0.812 total time=   0.6s\n",
      "[CV 5/5] END algorithm=SAMME, learning_rate=1.5, n_estimators=100;, score=0.831 total time=   0.7s\n",
      "[CV 1/5] END algorithm=SAMME, learning_rate=1.5, n_estimators=200;, score=0.819 total time=   1.3s\n",
      "[CV 2/5] END algorithm=SAMME, learning_rate=1.5, n_estimators=200;, score=0.806 total time=   1.4s\n",
      "[CV 3/5] END algorithm=SAMME, learning_rate=1.5, n_estimators=200;, score=0.850 total time=   1.4s\n",
      "[CV 4/5] END algorithm=SAMME, learning_rate=1.5, n_estimators=200;, score=0.794 total time=   1.4s\n",
      "[CV 5/5] END algorithm=SAMME, learning_rate=1.5, n_estimators=200;, score=0.831 total time=   1.3s\n",
      "[CV 1/5] END algorithm=SAMME, learning_rate=2, n_estimators=50;, score=0.175 total time=   0.3s\n",
      "[CV 2/5] END algorithm=SAMME, learning_rate=2, n_estimators=50;, score=0.613 total time=   0.3s\n",
      "[CV 3/5] END algorithm=SAMME, learning_rate=2, n_estimators=50;, score=0.131 total time=   0.3s\n",
      "[CV 4/5] END algorithm=SAMME, learning_rate=2, n_estimators=50;, score=0.394 total time=   0.3s\n",
      "[CV 5/5] END algorithm=SAMME, learning_rate=2, n_estimators=50;, score=0.144 total time=   0.3s\n",
      "[CV 1/5] END algorithm=SAMME, learning_rate=2, n_estimators=100;, score=0.381 total time=   0.6s\n",
      "[CV 2/5] END algorithm=SAMME, learning_rate=2, n_estimators=100;, score=0.613 total time=   0.6s\n",
      "[CV 3/5] END algorithm=SAMME, learning_rate=2, n_estimators=100;, score=0.138 total time=   0.8s\n",
      "[CV 4/5] END algorithm=SAMME, learning_rate=2, n_estimators=100;, score=0.344 total time=   0.6s\n",
      "[CV 5/5] END algorithm=SAMME, learning_rate=2, n_estimators=100;, score=0.212 total time=   0.7s\n",
      "[CV 1/5] END algorithm=SAMME, learning_rate=2, n_estimators=200;, score=0.475 total time=   1.5s\n",
      "[CV 2/5] END algorithm=SAMME, learning_rate=2, n_estimators=200;, score=0.613 total time=   1.3s\n",
      "[CV 3/5] END algorithm=SAMME, learning_rate=2, n_estimators=200;, score=0.800 total time=   1.3s\n",
      "[CV 4/5] END algorithm=SAMME, learning_rate=2, n_estimators=200;, score=0.600 total time=   1.3s\n",
      "[CV 5/5] END algorithm=SAMME, learning_rate=2, n_estimators=200;, score=0.456 total time=   1.3s\n",
      "[CV 1/5] END algorithm=SAMME, learning_rate=2.5, n_estimators=50;, score=0.819 total time=   0.3s\n",
      "[CV 2/5] END algorithm=SAMME, learning_rate=2.5, n_estimators=50;, score=0.856 total time=   0.3s\n",
      "[CV 3/5] END algorithm=SAMME, learning_rate=2.5, n_estimators=50;, score=0.881 total time=   0.3s\n",
      "[CV 4/5] END algorithm=SAMME, learning_rate=2.5, n_estimators=50;, score=0.812 total time=   0.3s\n",
      "[CV 5/5] END algorithm=SAMME, learning_rate=2.5, n_estimators=50;, score=0.825 total time=   0.3s\n",
      "[CV 1/5] END algorithm=SAMME, learning_rate=2.5, n_estimators=100;, score=0.819 total time=   0.7s\n",
      "[CV 2/5] END algorithm=SAMME, learning_rate=2.5, n_estimators=100;, score=0.856 total time=   0.6s\n",
      "[CV 3/5] END algorithm=SAMME, learning_rate=2.5, n_estimators=100;, score=0.881 total time=   0.6s\n",
      "[CV 4/5] END algorithm=SAMME, learning_rate=2.5, n_estimators=100;, score=0.812 total time=   0.7s\n",
      "[CV 5/5] END algorithm=SAMME, learning_rate=2.5, n_estimators=100;, score=0.825 total time=   0.7s\n",
      "[CV 1/5] END algorithm=SAMME, learning_rate=2.5, n_estimators=200;, score=0.819 total time=   1.4s\n",
      "[CV 2/5] END algorithm=SAMME, learning_rate=2.5, n_estimators=200;, score=0.856 total time=   1.4s\n",
      "[CV 3/5] END algorithm=SAMME, learning_rate=2.5, n_estimators=200;, score=0.881 total time=   1.3s\n",
      "[CV 4/5] END algorithm=SAMME, learning_rate=2.5, n_estimators=200;, score=0.812 total time=   1.4s\n",
      "[CV 5/5] END algorithm=SAMME, learning_rate=2.5, n_estimators=200;, score=0.825 total time=   1.4s\n"
     ]
    },
    {
     "data": {
      "text/html": [
       "<style>#sk-container-id-4 {color: black;}#sk-container-id-4 pre{padding: 0;}#sk-container-id-4 div.sk-toggleable {background-color: white;}#sk-container-id-4 label.sk-toggleable__label {cursor: pointer;display: block;width: 100%;margin-bottom: 0;padding: 0.3em;box-sizing: border-box;text-align: center;}#sk-container-id-4 label.sk-toggleable__label-arrow:before {content: \"▸\";float: left;margin-right: 0.25em;color: #696969;}#sk-container-id-4 label.sk-toggleable__label-arrow:hover:before {color: black;}#sk-container-id-4 div.sk-estimator:hover label.sk-toggleable__label-arrow:before {color: black;}#sk-container-id-4 div.sk-toggleable__content {max-height: 0;max-width: 0;overflow: hidden;text-align: left;background-color: #f0f8ff;}#sk-container-id-4 div.sk-toggleable__content pre {margin: 0.2em;color: black;border-radius: 0.25em;background-color: #f0f8ff;}#sk-container-id-4 input.sk-toggleable__control:checked~div.sk-toggleable__content {max-height: 200px;max-width: 100%;overflow: auto;}#sk-container-id-4 input.sk-toggleable__control:checked~label.sk-toggleable__label-arrow:before {content: \"▾\";}#sk-container-id-4 div.sk-estimator input.sk-toggleable__control:checked~label.sk-toggleable__label {background-color: #d4ebff;}#sk-container-id-4 div.sk-label input.sk-toggleable__control:checked~label.sk-toggleable__label {background-color: #d4ebff;}#sk-container-id-4 input.sk-hidden--visually {border: 0;clip: rect(1px 1px 1px 1px);clip: rect(1px, 1px, 1px, 1px);height: 1px;margin: -1px;overflow: hidden;padding: 0;position: absolute;width: 1px;}#sk-container-id-4 div.sk-estimator {font-family: monospace;background-color: #f0f8ff;border: 1px dotted black;border-radius: 0.25em;box-sizing: border-box;margin-bottom: 0.5em;}#sk-container-id-4 div.sk-estimator:hover {background-color: #d4ebff;}#sk-container-id-4 div.sk-parallel-item::after {content: \"\";width: 100%;border-bottom: 1px solid gray;flex-grow: 1;}#sk-container-id-4 div.sk-label:hover label.sk-toggleable__label {background-color: #d4ebff;}#sk-container-id-4 div.sk-serial::before {content: \"\";position: absolute;border-left: 1px solid gray;box-sizing: border-box;top: 0;bottom: 0;left: 50%;z-index: 0;}#sk-container-id-4 div.sk-serial {display: flex;flex-direction: column;align-items: center;background-color: white;padding-right: 0.2em;padding-left: 0.2em;position: relative;}#sk-container-id-4 div.sk-item {position: relative;z-index: 1;}#sk-container-id-4 div.sk-parallel {display: flex;align-items: stretch;justify-content: center;background-color: white;position: relative;}#sk-container-id-4 div.sk-item::before, #sk-container-id-4 div.sk-parallel-item::before {content: \"\";position: absolute;border-left: 1px solid gray;box-sizing: border-box;top: 0;bottom: 0;left: 50%;z-index: -1;}#sk-container-id-4 div.sk-parallel-item {display: flex;flex-direction: column;z-index: 1;position: relative;background-color: white;}#sk-container-id-4 div.sk-parallel-item:first-child::after {align-self: flex-end;width: 50%;}#sk-container-id-4 div.sk-parallel-item:last-child::after {align-self: flex-start;width: 50%;}#sk-container-id-4 div.sk-parallel-item:only-child::after {width: 0;}#sk-container-id-4 div.sk-dashed-wrapped {border: 1px dashed gray;margin: 0 0.4em 0.5em 0.4em;box-sizing: border-box;padding-bottom: 0.4em;background-color: white;}#sk-container-id-4 div.sk-label label {font-family: monospace;font-weight: bold;display: inline-block;line-height: 1.2em;}#sk-container-id-4 div.sk-label-container {text-align: center;}#sk-container-id-4 div.sk-container {/* jupyter's `normalize.less` sets `[hidden] { display: none; }` but bootstrap.min.css set `[hidden] { display: none !important; }` so we also need the `!important` here to be able to override the default hidden behavior on the sphinx rendered scikit-learn.org. See: https://github.com/scikit-learn/scikit-learn/issues/21755 */display: inline-block !important;position: relative;}#sk-container-id-4 div.sk-text-repr-fallback {display: none;}</style><div id=\"sk-container-id-4\" class=\"sk-top-container\"><div class=\"sk-text-repr-fallback\"><pre>GridSearchCV(cv=5, estimator=AdaBoostClassifier(),\n",
       "             param_grid={&#x27;algorithm&#x27;: [&#x27;SAMME.R&#x27;, &#x27;SAMME&#x27;],\n",
       "                         &#x27;learning_rate&#x27;: [0.001, 0.1, 1, 1.5, 2, 2.5],\n",
       "                         &#x27;n_estimators&#x27;: [50, 100, 200]},\n",
       "             verbose=3)</pre><b>In a Jupyter environment, please rerun this cell to show the HTML representation or trust the notebook. <br />On GitHub, the HTML representation is unable to render, please try loading this page with nbviewer.org.</b></div><div class=\"sk-container\" hidden><div class=\"sk-item sk-dashed-wrapped\"><div class=\"sk-label-container\"><div class=\"sk-label sk-toggleable\"><input class=\"sk-toggleable__control sk-hidden--visually\" id=\"sk-estimator-id-6\" type=\"checkbox\" ><label for=\"sk-estimator-id-6\" class=\"sk-toggleable__label sk-toggleable__label-arrow\">GridSearchCV</label><div class=\"sk-toggleable__content\"><pre>GridSearchCV(cv=5, estimator=AdaBoostClassifier(),\n",
       "             param_grid={&#x27;algorithm&#x27;: [&#x27;SAMME.R&#x27;, &#x27;SAMME&#x27;],\n",
       "                         &#x27;learning_rate&#x27;: [0.001, 0.1, 1, 1.5, 2, 2.5],\n",
       "                         &#x27;n_estimators&#x27;: [50, 100, 200]},\n",
       "             verbose=3)</pre></div></div></div><div class=\"sk-parallel\"><div class=\"sk-parallel-item\"><div class=\"sk-item\"><div class=\"sk-label-container\"><div class=\"sk-label sk-toggleable\"><input class=\"sk-toggleable__control sk-hidden--visually\" id=\"sk-estimator-id-7\" type=\"checkbox\" ><label for=\"sk-estimator-id-7\" class=\"sk-toggleable__label sk-toggleable__label-arrow\">estimator: AdaBoostClassifier</label><div class=\"sk-toggleable__content\"><pre>AdaBoostClassifier()</pre></div></div></div><div class=\"sk-serial\"><div class=\"sk-item\"><div class=\"sk-estimator sk-toggleable\"><input class=\"sk-toggleable__control sk-hidden--visually\" id=\"sk-estimator-id-8\" type=\"checkbox\" ><label for=\"sk-estimator-id-8\" class=\"sk-toggleable__label sk-toggleable__label-arrow\">AdaBoostClassifier</label><div class=\"sk-toggleable__content\"><pre>AdaBoostClassifier()</pre></div></div></div></div></div></div></div></div></div></div>"
      ],
      "text/plain": [
       "GridSearchCV(cv=5, estimator=AdaBoostClassifier(),\n",
       "             param_grid={'algorithm': ['SAMME.R', 'SAMME'],\n",
       "                         'learning_rate': [0.001, 0.1, 1, 1.5, 2, 2.5],\n",
       "                         'n_estimators': [50, 100, 200]},\n",
       "             verbose=3)"
      ]
     },
     "execution_count": 37,
     "metadata": {},
     "output_type": "execute_result"
    }
   ],
   "source": [
    "clf.fit(x_train,y_train)"
   ]
  },
  {
   "cell_type": "code",
   "execution_count": 41,
   "id": "175e258e-a51a-412e-ba02-d560958ae881",
   "metadata": {},
   "outputs": [],
   "source": [
    "best_model = clf.best_estimator_ #out of 180 model which is best\n",
    "y_pred = best_model.predict(x_test)"
   ]
  },
  {
   "cell_type": "code",
   "execution_count": 43,
   "id": "7eac7d5d-26e3-4e6b-b121-7a46de0c12a3",
   "metadata": {},
   "outputs": [
    {
     "data": {
      "text/plain": [
       "array([0, 1, 1, 1, 1, 0, 1, 0, 0, 0, 1, 0, 1, 0, 1, 0, 0, 0, 0, 0, 0, 1,\n",
       "       0, 1, 1, 1, 1, 0, 0, 1, 1, 1, 0, 1, 0, 0, 0, 1, 0, 1, 1, 1, 1, 1,\n",
       "       1, 0, 0, 1, 0, 1, 1, 1, 1, 1, 0, 0, 1, 1, 1, 0, 0, 0, 0, 0, 1, 1,\n",
       "       0, 1, 1, 0, 1, 1, 0, 0, 1, 1, 1, 0, 0, 1, 1, 1, 0, 1, 1, 1, 1, 1,\n",
       "       1, 1, 1, 1, 1, 0, 1, 0, 0, 1, 0, 0, 1, 0, 1, 0, 0, 0, 1, 0, 1, 1,\n",
       "       1, 1, 0, 0, 0, 0, 0, 1, 0, 0, 0, 1, 1, 1, 1, 1, 1, 1, 1, 1, 1, 1,\n",
       "       1, 0, 1, 1, 1, 1, 0, 1, 1, 1, 1, 1, 0, 0, 0, 0, 1, 0, 1, 0, 0, 0,\n",
       "       1, 0, 1, 1, 1, 1, 1, 0, 0, 1, 1, 1, 1, 0, 1, 1, 0, 1, 1, 1, 0, 0,\n",
       "       1, 0, 0, 1, 1, 1, 1, 1, 0, 1, 0, 1, 0, 1, 0, 0, 0, 0, 0, 0, 0, 0,\n",
       "       1, 1])"
      ]
     },
     "execution_count": 43,
     "metadata": {},
     "output_type": "execute_result"
    }
   ],
   "source": [
    "y_pred"
   ]
  },
  {
   "cell_type": "code",
   "execution_count": 45,
   "id": "e72cb364-2885-434f-9b53-680f34c0cd37",
   "metadata": {},
   "outputs": [
    {
     "data": {
      "text/plain": [
       "{'algorithm': 'SAMME.R', 'learning_rate': 0.1, 'n_estimators': 200}"
      ]
     },
     "execution_count": 45,
     "metadata": {},
     "output_type": "execute_result"
    }
   ],
   "source": [
    "clf.best_params_"
   ]
  },
  {
   "cell_type": "code",
   "execution_count": 47,
   "id": "2edcf6f0-dfe1-429b-9bf8-a3c12c8be0b2",
   "metadata": {},
   "outputs": [
    {
     "data": {
      "text/plain": [
       "0.8637499999999999"
      ]
     },
     "execution_count": 47,
     "metadata": {},
     "output_type": "execute_result"
    }
   ],
   "source": [
    "clf.best_score_"
   ]
  },
  {
   "cell_type": "code",
   "execution_count": 49,
   "id": "76deba13-97e2-450a-9bd9-0f450b184154",
   "metadata": {},
   "outputs": [
    {
     "data": {
      "text/plain": [
       "0.88"
      ]
     },
     "execution_count": 49,
     "metadata": {},
     "output_type": "execute_result"
    }
   ],
   "source": [
    "accuracy_score(y_test, y_pred)"
   ]
  },
  {
   "cell_type": "code",
   "execution_count": 97,
   "id": "c9905077-88ba-4ee1-8eba-ae1ae1bba6bb",
   "metadata": {},
   "outputs": [],
   "source": [
    "#ada boost regressor\n",
    "from sklearn.datasets import make_regression\n",
    "from sklearn.model_selection import train_test_split\n",
    "from sklearn.ensemble import AdaBoostRegressor\n",
    "from sklearn.metrics import r2_score\n"
   ]
  },
  {
   "cell_type": "code",
   "execution_count": 99,
   "id": "cbe88cb6-72e2-42e9-b235-29c09e0b3fa1",
   "metadata": {},
   "outputs": [],
   "source": [
    "x, y = make_regression(n_samples=1000, n_features=2, noise = 10, random_state=1)\n",
    "x_train, x_test, y_train, y_test = train_test_split(x, y, test_size = 0.33, random_state=1)"
   ]
  },
  {
   "cell_type": "code",
   "execution_count": 101,
   "id": "43315ab8-e881-46d3-9c27-e917782104b6",
   "metadata": {},
   "outputs": [
    {
     "data": {
      "text/plain": [
       "((670, 2), (330, 2))"
      ]
     },
     "execution_count": 101,
     "metadata": {},
     "output_type": "execute_result"
    }
   ],
   "source": [
    "x_train.shape,x_test.shape"
   ]
  },
  {
   "cell_type": "raw",
   "id": "b8cdd439-8009-4c04-b4ea-7b6d68ce012b",
   "metadata": {},
   "source": [
    "reg = AdaBoostRegressor()\n",
    "reg"
   ]
  },
  {
   "cell_type": "code",
   "execution_count": 107,
   "id": "540ed07f-eca5-4e97-8afb-d8393d927768",
   "metadata": {},
   "outputs": [
    {
     "ename": "NameError",
     "evalue": "name 'reg' is not defined",
     "output_type": "error",
     "traceback": [
      "\u001b[1;31m---------------------------------------------------------------------------\u001b[0m",
      "\u001b[1;31mNameError\u001b[0m                                 Traceback (most recent call last)",
      "Cell \u001b[1;32mIn[107], line 1\u001b[0m\n\u001b[1;32m----> 1\u001b[0m \u001b[43mreg\u001b[49m\u001b[38;5;241m.\u001b[39mfit(x_train, y_train)\n",
      "\u001b[1;31mNameError\u001b[0m: name 'reg' is not defined"
     ]
    }
   ],
   "source": []
  },
  {
   "cell_type": "code",
   "execution_count": null,
   "id": "2e49747d-4586-4a7e-927d-00e02ba48c82",
   "metadata": {},
   "outputs": [],
   "source": []
  }
 ],
 "metadata": {
  "kernelspec": {
   "display_name": "Python 3 (ipykernel)",
   "language": "python",
   "name": "python3"
  },
  "language_info": {
   "codemirror_mode": {
    "name": "ipython",
    "version": 3
   },
   "file_extension": ".py",
   "mimetype": "text/x-python",
   "name": "python",
   "nbconvert_exporter": "python",
   "pygments_lexer": "ipython3",
   "version": "3.11.5"
  }
 },
 "nbformat": 4,
 "nbformat_minor": 5
}
