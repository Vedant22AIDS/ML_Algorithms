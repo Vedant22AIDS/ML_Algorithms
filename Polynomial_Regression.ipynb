{
 "cells": [
  {
   "cell_type": "code",
   "execution_count": 2,
   "id": "46c24e14-e6fa-4bc2-bd05-051b25c211e6",
   "metadata": {},
   "outputs": [],
   "source": [
    "import pandas as pd\n",
    "import numpy as np\n",
    "import seaborn as sns\n",
    "import matplotlib.pyplot as plt\n",
    "import warnings\n",
    "warnings.filterwarnings('ignore')"
   ]
  },
  {
   "cell_type": "code",
   "execution_count": 11,
   "id": "8ba3a997-c0f4-42d8-9e1d-ff0879a88675",
   "metadata": {},
   "outputs": [],
   "source": [
    "np.random.seed(1)"
   ]
  },
  {
   "cell_type": "code",
   "execution_count": 19,
   "id": "bf746962-7a29-43d4-bcf2-4b685e782627",
   "metadata": {},
   "outputs": [],
   "source": [
    "x=2*np.random.rand(100,1)"
   ]
  },
  {
   "cell_type": "code",
   "execution_count": 21,
   "id": "aa77b874-6a68-4eb9-8041-a335f33883e7",
   "metadata": {},
   "outputs": [
    {
     "data": {
      "text/plain": [
       "array([[1.44064899e+00],\n",
       "       [2.28749635e-04],\n",
       "       [6.04665145e-01],\n",
       "       [2.93511782e-01],\n",
       "       [1.84677190e-01],\n",
       "       [3.72520423e-01],\n",
       "       [6.91121454e-01],\n",
       "       [7.93534948e-01],\n",
       "       [1.07763347e+00],\n",
       "       [8.38389029e-01],\n",
       "       [1.37043900e+00],\n",
       "       [4.08904499e-01],\n",
       "       [1.75623487e+00],\n",
       "       [5.47751864e-02],\n",
       "       [1.34093502e+00],\n",
       "       [8.34609605e-01],\n",
       "       [1.11737966e+00],\n",
       "       [2.80773877e-01],\n",
       "       [3.96202978e-01],\n",
       "       [1.60148914e+00],\n",
       "       [1.93652315e+00],\n",
       "       [6.26848356e-01],\n",
       "       [1.38464523e+00],\n",
       "       [1.75277830e+00],\n",
       "       [1.78921333e+00],\n",
       "       [1.70088423e-01],\n",
       "       [7.81095665e-02],\n",
       "       [3.39660839e-01],\n",
       "       [1.75628501e+00],\n",
       "       [1.96693668e-01],\n",
       "       [8.42215250e-01],\n",
       "       [1.91577906e+00],\n",
       "       [1.06633057e+00],\n",
       "       [1.38375423e+00],\n",
       "       [6.31031262e-01],\n",
       "       [1.37300186e+00],\n",
       "       [1.66925134e+00],\n",
       "       [3.65765547e-02],\n",
       "       [1.50028863e+00],\n",
       "       [1.97772218e+00],\n",
       "       [1.49633131e+00],\n",
       "       [5.60887984e-01],\n",
       "       [1.57855866e+00],\n",
       "       [2.06452013e-01],\n",
       "       [8.95787052e-01],\n",
       "       [1.81719101e+00],\n",
       "       [5.87228297e-01],\n",
       "       [5.75550677e-01],\n",
       "       [2.60057144e-01],\n",
       "       [3.87339157e-02],\n",
       "       [1.35767107e+00],\n",
       "       [4.23256232e-01],\n",
       "       [5.31093319e-01],\n",
       "       [9.83146319e-01],\n",
       "       [1.06725090e-01],\n",
       "       [1.14823521e+00],\n",
       "       [2.93457150e-01],\n",
       "       [1.17861107e+00],\n",
       "       [1.39951672e+00],\n",
       "       [2.04668858e-01],\n",
       "       [8.28111976e-01],\n",
       "       [1.38880032e+00],\n",
       "       [8.28358539e-01],\n",
       "       [9.99069179e-02],\n",
       "       [1.07179281e+00],\n",
       "       [1.32758929e+00],\n",
       "       [1.02977822e+00],\n",
       "       [1.88918951e+00],\n",
       "       [1.17311008e+00],\n",
       "       [1.80680383e+00],\n",
       "       [2.74949408e-01],\n",
       "       [2.78552695e-01],\n",
       "       [1.61478258e+00],\n",
       "       [7.95353674e-01],\n",
       "       [3.30708394e-01],\n",
       "       [1.85501716e+00],\n",
       "       [6.95531719e-01],\n",
       "       [1.50162421e+00],\n",
       "       [1.45199597e+00],\n",
       "       [1.76661218e+00],\n",
       "       [1.24734441e+00],\n",
       "       [1.50188487e+00],\n",
       "       [6.97796684e-01],\n",
       "       [5.39855784e-01],\n",
       "       [1.79177244e+00],\n",
       "       [8.56182380e-01],\n",
       "       [1.92968009e+00],\n",
       "       [1.32688300e+00],\n",
       "       [1.24339144e+00],\n",
       "       [2.29491946e-01],\n",
       "       [1.89897852e+00],\n",
       "       [8.99824267e-01],\n",
       "       [1.15677923e+00],\n",
       "       [8.16273606e-01],\n",
       "       [4.74053960e-01],\n",
       "       [1.80675904e+00],\n",
       "       [1.14735897e+00],\n",
       "       [5.74065406e-03],\n",
       "       [1.23428983e+00],\n",
       "       [6.53289804e-01]])"
      ]
     },
     "execution_count": 21,
     "metadata": {},
     "output_type": "execute_result"
    }
   ],
   "source": [
    "x"
   ]
  },
  {
   "cell_type": "code",
   "execution_count": 27,
   "id": "30764264-a432-4c19-afe7-093b0081b29b",
   "metadata": {},
   "outputs": [],
   "source": [
    "y=4+3*x+1.5*x**2+np.random.rand(100,1)"
   ]
  },
  {
   "cell_type": "code",
   "execution_count": 29,
   "id": "f57a6d30-4748-41aa-89be-a87cfa876766",
   "metadata": {},
   "outputs": [
    {
     "data": {
      "text/plain": [
       "array([[11.96220932],\n",
       "       [ 4.88662843],\n",
       "       [ 6.7196951 ],\n",
       "       [ 5.91829424],\n",
       "       [ 5.22855018],\n",
       "       [ 5.34153971],\n",
       "       [ 7.71927489],\n",
       "       [ 8.01604833],\n",
       "       [ 9.97216409],\n",
       "       [ 7.74185184],\n",
       "       [11.06560733],\n",
       "       [ 6.4101133 ],\n",
       "       [14.59206417],\n",
       "       [ 4.23482621],\n",
       "       [11.47542821],\n",
       "       [ 8.30256479],\n",
       "       [10.14796945],\n",
       "       [ 5.67209735],\n",
       "       [ 5.5483451 ],\n",
       "       [12.67149873],\n",
       "       [15.46096332],\n",
       "       [ 6.49825985],\n",
       "       [11.27601039],\n",
       "       [14.72671054],\n",
       "       [14.70839754],\n",
       "       [ 5.10648235],\n",
       "       [ 5.08551125],\n",
       "       [ 5.31621006],\n",
       "       [14.17484424],\n",
       "       [ 5.23387287],\n",
       "       [ 8.56023129],\n",
       "       [15.81368151],\n",
       "       [ 8.92323033],\n",
       "       [11.824059  ],\n",
       "       [ 6.72336874],\n",
       "       [11.7538119 ],\n",
       "       [13.57521475],\n",
       "       [ 4.97527829],\n",
       "       [12.62428649],\n",
       "       [16.35648429],\n",
       "       [11.98396023],\n",
       "       [ 6.21447464],\n",
       "       [12.59479058],\n",
       "       [ 4.72784157],\n",
       "       [ 7.99850695],\n",
       "       [14.63055709],\n",
       "       [ 6.99192948],\n",
       "       [ 6.78325689],\n",
       "       [ 4.89417199],\n",
       "       [ 4.1904265 ],\n",
       "       [11.80519561],\n",
       "       [ 6.10658791],\n",
       "       [ 6.21966336],\n",
       "       [ 8.65162973],\n",
       "       [ 5.08108649],\n",
       "       [ 9.61780126],\n",
       "       [ 5.59090602],\n",
       "       [10.58953931],\n",
       "       [11.98334954],\n",
       "       [ 4.91668834],\n",
       "       [ 8.00675981],\n",
       "       [11.67950614],\n",
       "       [ 8.34332332],\n",
       "       [ 4.47148424],\n",
       "       [ 8.95706438],\n",
       "       [10.69653   ],\n",
       "       [ 9.16634457],\n",
       "       [15.62745352],\n",
       "       [10.15246257],\n",
       "       [14.63458402],\n",
       "       [ 5.92686014],\n",
       "       [ 5.53179071],\n",
       "       [13.13577306],\n",
       "       [ 7.88589044],\n",
       "       [ 5.90151168],\n",
       "       [15.39591738],\n",
       "       [ 7.07716128],\n",
       "       [11.95352034],\n",
       "       [11.88851056],\n",
       "       [14.61093196],\n",
       "       [10.28600938],\n",
       "       [12.64189739],\n",
       "       [ 6.89030685],\n",
       "       [ 6.31704885],\n",
       "       [14.99574457],\n",
       "       [ 7.86155382],\n",
       "       [16.01399906],\n",
       "       [11.14624702],\n",
       "       [10.9740157 ],\n",
       "       [ 5.03077244],\n",
       "       [15.17207576],\n",
       "       [ 8.64906433],\n",
       "       [10.24972299],\n",
       "       [ 8.35609057],\n",
       "       [ 6.69122469],\n",
       "       [14.33079605],\n",
       "       [ 9.65108793],\n",
       "       [ 4.63404975],\n",
       "       [10.93709287],\n",
       "       [ 7.55022688]])"
      ]
     },
     "execution_count": 29,
     "metadata": {},
     "output_type": "execute_result"
    }
   ],
   "source": [
    "y"
   ]
  },
  {
   "cell_type": "code",
   "execution_count": 32,
   "id": "eca35386-144d-42fa-bf8f-1463e08091c0",
   "metadata": {},
   "outputs": [],
   "source": [
    "from sklearn.model_selection import train_test_split"
   ]
  },
  {
   "cell_type": "code",
   "execution_count": 35,
   "id": "3b87354e-eaa6-4315-ab26-6248fe60feb5",
   "metadata": {},
   "outputs": [],
   "source": [
    "x_train,x_test,y_train,y_test=train_test_split(x,y,test_size=0.3,random_state=1)"
   ]
  },
  {
   "cell_type": "code",
   "execution_count": 42,
   "id": "4c57f69b-226e-4941-8cca-9e6f8ffbba64",
   "metadata": {},
   "outputs": [],
   "source": [
    "from sklearn.preprocessing import PolynomialFeatures\n",
    "poly_feat=PolynomialFeatures(degree=2,include_bias=False)"
   ]
  },
  {
   "cell_type": "code",
   "execution_count": 44,
   "id": "fe61c057-5d6b-4dbe-bbba-f7351ba9947c",
   "metadata": {},
   "outputs": [
    {
     "data": {
      "text/html": [
       "<style>#sk-container-id-1 {color: black;}#sk-container-id-1 pre{padding: 0;}#sk-container-id-1 div.sk-toggleable {background-color: white;}#sk-container-id-1 label.sk-toggleable__label {cursor: pointer;display: block;width: 100%;margin-bottom: 0;padding: 0.3em;box-sizing: border-box;text-align: center;}#sk-container-id-1 label.sk-toggleable__label-arrow:before {content: \"▸\";float: left;margin-right: 0.25em;color: #696969;}#sk-container-id-1 label.sk-toggleable__label-arrow:hover:before {color: black;}#sk-container-id-1 div.sk-estimator:hover label.sk-toggleable__label-arrow:before {color: black;}#sk-container-id-1 div.sk-toggleable__content {max-height: 0;max-width: 0;overflow: hidden;text-align: left;background-color: #f0f8ff;}#sk-container-id-1 div.sk-toggleable__content pre {margin: 0.2em;color: black;border-radius: 0.25em;background-color: #f0f8ff;}#sk-container-id-1 input.sk-toggleable__control:checked~div.sk-toggleable__content {max-height: 200px;max-width: 100%;overflow: auto;}#sk-container-id-1 input.sk-toggleable__control:checked~label.sk-toggleable__label-arrow:before {content: \"▾\";}#sk-container-id-1 div.sk-estimator input.sk-toggleable__control:checked~label.sk-toggleable__label {background-color: #d4ebff;}#sk-container-id-1 div.sk-label input.sk-toggleable__control:checked~label.sk-toggleable__label {background-color: #d4ebff;}#sk-container-id-1 input.sk-hidden--visually {border: 0;clip: rect(1px 1px 1px 1px);clip: rect(1px, 1px, 1px, 1px);height: 1px;margin: -1px;overflow: hidden;padding: 0;position: absolute;width: 1px;}#sk-container-id-1 div.sk-estimator {font-family: monospace;background-color: #f0f8ff;border: 1px dotted black;border-radius: 0.25em;box-sizing: border-box;margin-bottom: 0.5em;}#sk-container-id-1 div.sk-estimator:hover {background-color: #d4ebff;}#sk-container-id-1 div.sk-parallel-item::after {content: \"\";width: 100%;border-bottom: 1px solid gray;flex-grow: 1;}#sk-container-id-1 div.sk-label:hover label.sk-toggleable__label {background-color: #d4ebff;}#sk-container-id-1 div.sk-serial::before {content: \"\";position: absolute;border-left: 1px solid gray;box-sizing: border-box;top: 0;bottom: 0;left: 50%;z-index: 0;}#sk-container-id-1 div.sk-serial {display: flex;flex-direction: column;align-items: center;background-color: white;padding-right: 0.2em;padding-left: 0.2em;position: relative;}#sk-container-id-1 div.sk-item {position: relative;z-index: 1;}#sk-container-id-1 div.sk-parallel {display: flex;align-items: stretch;justify-content: center;background-color: white;position: relative;}#sk-container-id-1 div.sk-item::before, #sk-container-id-1 div.sk-parallel-item::before {content: \"\";position: absolute;border-left: 1px solid gray;box-sizing: border-box;top: 0;bottom: 0;left: 50%;z-index: -1;}#sk-container-id-1 div.sk-parallel-item {display: flex;flex-direction: column;z-index: 1;position: relative;background-color: white;}#sk-container-id-1 div.sk-parallel-item:first-child::after {align-self: flex-end;width: 50%;}#sk-container-id-1 div.sk-parallel-item:last-child::after {align-self: flex-start;width: 50%;}#sk-container-id-1 div.sk-parallel-item:only-child::after {width: 0;}#sk-container-id-1 div.sk-dashed-wrapped {border: 1px dashed gray;margin: 0 0.4em 0.5em 0.4em;box-sizing: border-box;padding-bottom: 0.4em;background-color: white;}#sk-container-id-1 div.sk-label label {font-family: monospace;font-weight: bold;display: inline-block;line-height: 1.2em;}#sk-container-id-1 div.sk-label-container {text-align: center;}#sk-container-id-1 div.sk-container {/* jupyter's `normalize.less` sets `[hidden] { display: none; }` but bootstrap.min.css set `[hidden] { display: none !important; }` so we also need the `!important` here to be able to override the default hidden behavior on the sphinx rendered scikit-learn.org. See: https://github.com/scikit-learn/scikit-learn/issues/21755 */display: inline-block !important;position: relative;}#sk-container-id-1 div.sk-text-repr-fallback {display: none;}</style><div id=\"sk-container-id-1\" class=\"sk-top-container\"><div class=\"sk-text-repr-fallback\"><pre>PolynomialFeatures(include_bias=False)</pre><b>In a Jupyter environment, please rerun this cell to show the HTML representation or trust the notebook. <br />On GitHub, the HTML representation is unable to render, please try loading this page with nbviewer.org.</b></div><div class=\"sk-container\" hidden><div class=\"sk-item\"><div class=\"sk-estimator sk-toggleable\"><input class=\"sk-toggleable__control sk-hidden--visually\" id=\"sk-estimator-id-1\" type=\"checkbox\" checked><label for=\"sk-estimator-id-1\" class=\"sk-toggleable__label sk-toggleable__label-arrow\">PolynomialFeatures</label><div class=\"sk-toggleable__content\"><pre>PolynomialFeatures(include_bias=False)</pre></div></div></div></div></div>"
      ],
      "text/plain": [
       "PolynomialFeatures(include_bias=False)"
      ]
     },
     "execution_count": 44,
     "metadata": {},
     "output_type": "execute_result"
    }
   ],
   "source": [
    "poly_feat"
   ]
  },
  {
   "cell_type": "code",
   "execution_count": 67,
   "id": "e6846035-0f8a-49fe-97eb-5134a00c2acd",
   "metadata": {},
   "outputs": [],
   "source": [
    "x_train_poly=poly_feat.fit_transform(x_train)"
   ]
  },
  {
   "cell_type": "code",
   "execution_count": 69,
   "id": "e0881358-b815-43a3-9f00-02905843123f",
   "metadata": {},
   "outputs": [
    {
     "data": {
      "text/plain": [
       "array([[1.88918951e+00, 3.56903701e+00],\n",
       "       [6.53289804e-01, 4.26787567e-01],\n",
       "       [1.06725090e-01, 1.13902449e-02],\n",
       "       [1.80675904e+00, 3.26437823e+00],\n",
       "       [1.24339144e+00, 1.54602227e+00],\n",
       "       [1.49633131e+00, 2.23900739e+00],\n",
       "       [2.60057144e-01, 6.76297183e-02],\n",
       "       [2.04668858e-01, 4.18893413e-02],\n",
       "       [1.75277830e+00, 3.07223179e+00],\n",
       "       [6.31031262e-01, 3.98200454e-01],\n",
       "       [1.92968009e+00, 3.72366527e+00],\n",
       "       [9.83146319e-01, 9.66576684e-01],\n",
       "       [1.50162421e+00, 2.25487526e+00],\n",
       "       [8.34609605e-01, 6.96573192e-01],\n",
       "       [5.39855784e-01, 2.91444267e-01],\n",
       "       [5.60887984e-01, 3.14595331e-01],\n",
       "       [1.81719101e+00, 3.30218315e+00],\n",
       "       [8.99824267e-01, 8.09683711e-01],\n",
       "       [7.81095665e-02, 6.10110437e-03],\n",
       "       [1.23428983e+00, 1.52347138e+00],\n",
       "       [2.06452013e-01, 4.26224337e-02],\n",
       "       [1.14823521e+00, 1.31844410e+00],\n",
       "       [1.78921333e+00, 3.20128433e+00],\n",
       "       [1.84677190e-01, 3.41056643e-02],\n",
       "       [1.39951672e+00, 1.95864705e+00],\n",
       "       [3.87339157e-02, 1.50031623e-03],\n",
       "       [6.26848356e-01, 3.92938862e-01],\n",
       "       [1.32688300e+00, 1.76061848e+00],\n",
       "       [2.93511782e-01, 8.61491660e-02],\n",
       "       [3.30708394e-01, 1.09368042e-01],\n",
       "       [8.42215250e-01, 7.09326527e-01],\n",
       "       [1.02977822e+00, 1.06044319e+00],\n",
       "       [2.74949408e-01, 7.55971771e-02],\n",
       "       [1.57855866e+00, 2.49184743e+00],\n",
       "       [5.75550677e-01, 3.31258582e-01],\n",
       "       [2.29491946e-01, 5.26665532e-02],\n",
       "       [1.07763347e+00, 1.16129389e+00],\n",
       "       [8.28111976e-01, 6.85769444e-01],\n",
       "       [1.44064899e+00, 2.07546950e+00],\n",
       "       [1.89897852e+00, 3.60611941e+00],\n",
       "       [1.17861107e+00, 1.38912406e+00],\n",
       "       [1.38464523e+00, 1.91724242e+00],\n",
       "       [1.38880032e+00, 1.92876632e+00],\n",
       "       [9.99069179e-02, 9.98139224e-03],\n",
       "       [7.93534948e-01, 6.29697714e-01],\n",
       "       [1.14735897e+00, 1.31643261e+00],\n",
       "       [5.47751864e-02, 3.00032104e-03],\n",
       "       [1.17311008e+00, 1.37618726e+00],\n",
       "       [8.56182380e-01, 7.33048267e-01],\n",
       "       [1.34093502e+00, 1.79810673e+00],\n",
       "       [1.96693668e-01, 3.86883989e-02],\n",
       "       [1.75628501e+00, 3.08453703e+00],\n",
       "       [4.08904499e-01, 1.67202890e-01],\n",
       "       [3.96202978e-01, 1.56976800e-01],\n",
       "       [1.93652315e+00, 3.75012192e+00],\n",
       "       [1.35767107e+00, 1.84327072e+00],\n",
       "       [1.70088423e-01, 2.89300716e-02],\n",
       "       [6.91121454e-01, 4.77648864e-01],\n",
       "       [2.78552695e-01, 7.75916036e-02],\n",
       "       [6.95531719e-01, 4.83764373e-01],\n",
       "       [2.28749635e-04, 5.23263954e-08],\n",
       "       [1.11737966e+00, 1.24853730e+00],\n",
       "       [1.07179281e+00, 1.14873983e+00],\n",
       "       [1.76661218e+00, 3.12091860e+00],\n",
       "       [3.72520423e-01, 1.38771465e-01],\n",
       "       [1.85501716e+00, 3.44108867e+00],\n",
       "       [8.38389029e-01, 7.02896164e-01],\n",
       "       [1.61478258e+00, 2.60752277e+00],\n",
       "       [1.75623487e+00, 3.08436093e+00],\n",
       "       [3.65765547e-02, 1.33784435e-03]])"
      ]
     },
     "execution_count": 69,
     "metadata": {},
     "output_type": "execute_result"
    }
   ],
   "source": [
    "x_train_poly"
   ]
  },
  {
   "cell_type": "code",
   "execution_count": 71,
   "id": "cc3300b5-8e73-499b-b421-1896ce5880a2",
   "metadata": {},
   "outputs": [],
   "source": [
    "from sklearn.linear_model import LinearRegression"
   ]
  },
  {
   "cell_type": "code",
   "execution_count": 73,
   "id": "6627ef72-40a9-48e8-ad08-6aab70e35aae",
   "metadata": {},
   "outputs": [],
   "source": [
    "poly_reg=LinearRegression()"
   ]
  },
  {
   "cell_type": "code",
   "execution_count": 75,
   "id": "734da779-9c4f-4c08-818c-e640c0686cda",
   "metadata": {},
   "outputs": [
    {
     "data": {
      "text/html": [
       "<style>#sk-container-id-4 {color: black;}#sk-container-id-4 pre{padding: 0;}#sk-container-id-4 div.sk-toggleable {background-color: white;}#sk-container-id-4 label.sk-toggleable__label {cursor: pointer;display: block;width: 100%;margin-bottom: 0;padding: 0.3em;box-sizing: border-box;text-align: center;}#sk-container-id-4 label.sk-toggleable__label-arrow:before {content: \"▸\";float: left;margin-right: 0.25em;color: #696969;}#sk-container-id-4 label.sk-toggleable__label-arrow:hover:before {color: black;}#sk-container-id-4 div.sk-estimator:hover label.sk-toggleable__label-arrow:before {color: black;}#sk-container-id-4 div.sk-toggleable__content {max-height: 0;max-width: 0;overflow: hidden;text-align: left;background-color: #f0f8ff;}#sk-container-id-4 div.sk-toggleable__content pre {margin: 0.2em;color: black;border-radius: 0.25em;background-color: #f0f8ff;}#sk-container-id-4 input.sk-toggleable__control:checked~div.sk-toggleable__content {max-height: 200px;max-width: 100%;overflow: auto;}#sk-container-id-4 input.sk-toggleable__control:checked~label.sk-toggleable__label-arrow:before {content: \"▾\";}#sk-container-id-4 div.sk-estimator input.sk-toggleable__control:checked~label.sk-toggleable__label {background-color: #d4ebff;}#sk-container-id-4 div.sk-label input.sk-toggleable__control:checked~label.sk-toggleable__label {background-color: #d4ebff;}#sk-container-id-4 input.sk-hidden--visually {border: 0;clip: rect(1px 1px 1px 1px);clip: rect(1px, 1px, 1px, 1px);height: 1px;margin: -1px;overflow: hidden;padding: 0;position: absolute;width: 1px;}#sk-container-id-4 div.sk-estimator {font-family: monospace;background-color: #f0f8ff;border: 1px dotted black;border-radius: 0.25em;box-sizing: border-box;margin-bottom: 0.5em;}#sk-container-id-4 div.sk-estimator:hover {background-color: #d4ebff;}#sk-container-id-4 div.sk-parallel-item::after {content: \"\";width: 100%;border-bottom: 1px solid gray;flex-grow: 1;}#sk-container-id-4 div.sk-label:hover label.sk-toggleable__label {background-color: #d4ebff;}#sk-container-id-4 div.sk-serial::before {content: \"\";position: absolute;border-left: 1px solid gray;box-sizing: border-box;top: 0;bottom: 0;left: 50%;z-index: 0;}#sk-container-id-4 div.sk-serial {display: flex;flex-direction: column;align-items: center;background-color: white;padding-right: 0.2em;padding-left: 0.2em;position: relative;}#sk-container-id-4 div.sk-item {position: relative;z-index: 1;}#sk-container-id-4 div.sk-parallel {display: flex;align-items: stretch;justify-content: center;background-color: white;position: relative;}#sk-container-id-4 div.sk-item::before, #sk-container-id-4 div.sk-parallel-item::before {content: \"\";position: absolute;border-left: 1px solid gray;box-sizing: border-box;top: 0;bottom: 0;left: 50%;z-index: -1;}#sk-container-id-4 div.sk-parallel-item {display: flex;flex-direction: column;z-index: 1;position: relative;background-color: white;}#sk-container-id-4 div.sk-parallel-item:first-child::after {align-self: flex-end;width: 50%;}#sk-container-id-4 div.sk-parallel-item:last-child::after {align-self: flex-start;width: 50%;}#sk-container-id-4 div.sk-parallel-item:only-child::after {width: 0;}#sk-container-id-4 div.sk-dashed-wrapped {border: 1px dashed gray;margin: 0 0.4em 0.5em 0.4em;box-sizing: border-box;padding-bottom: 0.4em;background-color: white;}#sk-container-id-4 div.sk-label label {font-family: monospace;font-weight: bold;display: inline-block;line-height: 1.2em;}#sk-container-id-4 div.sk-label-container {text-align: center;}#sk-container-id-4 div.sk-container {/* jupyter's `normalize.less` sets `[hidden] { display: none; }` but bootstrap.min.css set `[hidden] { display: none !important; }` so we also need the `!important` here to be able to override the default hidden behavior on the sphinx rendered scikit-learn.org. See: https://github.com/scikit-learn/scikit-learn/issues/21755 */display: inline-block !important;position: relative;}#sk-container-id-4 div.sk-text-repr-fallback {display: none;}</style><div id=\"sk-container-id-4\" class=\"sk-top-container\"><div class=\"sk-text-repr-fallback\"><pre>LinearRegression()</pre><b>In a Jupyter environment, please rerun this cell to show the HTML representation or trust the notebook. <br />On GitHub, the HTML representation is unable to render, please try loading this page with nbviewer.org.</b></div><div class=\"sk-container\" hidden><div class=\"sk-item\"><div class=\"sk-estimator sk-toggleable\"><input class=\"sk-toggleable__control sk-hidden--visually\" id=\"sk-estimator-id-4\" type=\"checkbox\" checked><label for=\"sk-estimator-id-4\" class=\"sk-toggleable__label sk-toggleable__label-arrow\">LinearRegression</label><div class=\"sk-toggleable__content\"><pre>LinearRegression()</pre></div></div></div></div></div>"
      ],
      "text/plain": [
       "LinearRegression()"
      ]
     },
     "execution_count": 75,
     "metadata": {},
     "output_type": "execute_result"
    }
   ],
   "source": [
    "poly_reg"
   ]
  },
  {
   "cell_type": "code",
   "execution_count": 77,
   "id": "8a9e9f5c-4616-48de-98c7-bdc548484276",
   "metadata": {},
   "outputs": [
    {
     "data": {
      "text/html": [
       "<style>#sk-container-id-5 {color: black;}#sk-container-id-5 pre{padding: 0;}#sk-container-id-5 div.sk-toggleable {background-color: white;}#sk-container-id-5 label.sk-toggleable__label {cursor: pointer;display: block;width: 100%;margin-bottom: 0;padding: 0.3em;box-sizing: border-box;text-align: center;}#sk-container-id-5 label.sk-toggleable__label-arrow:before {content: \"▸\";float: left;margin-right: 0.25em;color: #696969;}#sk-container-id-5 label.sk-toggleable__label-arrow:hover:before {color: black;}#sk-container-id-5 div.sk-estimator:hover label.sk-toggleable__label-arrow:before {color: black;}#sk-container-id-5 div.sk-toggleable__content {max-height: 0;max-width: 0;overflow: hidden;text-align: left;background-color: #f0f8ff;}#sk-container-id-5 div.sk-toggleable__content pre {margin: 0.2em;color: black;border-radius: 0.25em;background-color: #f0f8ff;}#sk-container-id-5 input.sk-toggleable__control:checked~div.sk-toggleable__content {max-height: 200px;max-width: 100%;overflow: auto;}#sk-container-id-5 input.sk-toggleable__control:checked~label.sk-toggleable__label-arrow:before {content: \"▾\";}#sk-container-id-5 div.sk-estimator input.sk-toggleable__control:checked~label.sk-toggleable__label {background-color: #d4ebff;}#sk-container-id-5 div.sk-label input.sk-toggleable__control:checked~label.sk-toggleable__label {background-color: #d4ebff;}#sk-container-id-5 input.sk-hidden--visually {border: 0;clip: rect(1px 1px 1px 1px);clip: rect(1px, 1px, 1px, 1px);height: 1px;margin: -1px;overflow: hidden;padding: 0;position: absolute;width: 1px;}#sk-container-id-5 div.sk-estimator {font-family: monospace;background-color: #f0f8ff;border: 1px dotted black;border-radius: 0.25em;box-sizing: border-box;margin-bottom: 0.5em;}#sk-container-id-5 div.sk-estimator:hover {background-color: #d4ebff;}#sk-container-id-5 div.sk-parallel-item::after {content: \"\";width: 100%;border-bottom: 1px solid gray;flex-grow: 1;}#sk-container-id-5 div.sk-label:hover label.sk-toggleable__label {background-color: #d4ebff;}#sk-container-id-5 div.sk-serial::before {content: \"\";position: absolute;border-left: 1px solid gray;box-sizing: border-box;top: 0;bottom: 0;left: 50%;z-index: 0;}#sk-container-id-5 div.sk-serial {display: flex;flex-direction: column;align-items: center;background-color: white;padding-right: 0.2em;padding-left: 0.2em;position: relative;}#sk-container-id-5 div.sk-item {position: relative;z-index: 1;}#sk-container-id-5 div.sk-parallel {display: flex;align-items: stretch;justify-content: center;background-color: white;position: relative;}#sk-container-id-5 div.sk-item::before, #sk-container-id-5 div.sk-parallel-item::before {content: \"\";position: absolute;border-left: 1px solid gray;box-sizing: border-box;top: 0;bottom: 0;left: 50%;z-index: -1;}#sk-container-id-5 div.sk-parallel-item {display: flex;flex-direction: column;z-index: 1;position: relative;background-color: white;}#sk-container-id-5 div.sk-parallel-item:first-child::after {align-self: flex-end;width: 50%;}#sk-container-id-5 div.sk-parallel-item:last-child::after {align-self: flex-start;width: 50%;}#sk-container-id-5 div.sk-parallel-item:only-child::after {width: 0;}#sk-container-id-5 div.sk-dashed-wrapped {border: 1px dashed gray;margin: 0 0.4em 0.5em 0.4em;box-sizing: border-box;padding-bottom: 0.4em;background-color: white;}#sk-container-id-5 div.sk-label label {font-family: monospace;font-weight: bold;display: inline-block;line-height: 1.2em;}#sk-container-id-5 div.sk-label-container {text-align: center;}#sk-container-id-5 div.sk-container {/* jupyter's `normalize.less` sets `[hidden] { display: none; }` but bootstrap.min.css set `[hidden] { display: none !important; }` so we also need the `!important` here to be able to override the default hidden behavior on the sphinx rendered scikit-learn.org. See: https://github.com/scikit-learn/scikit-learn/issues/21755 */display: inline-block !important;position: relative;}#sk-container-id-5 div.sk-text-repr-fallback {display: none;}</style><div id=\"sk-container-id-5\" class=\"sk-top-container\"><div class=\"sk-text-repr-fallback\"><pre>LinearRegression()</pre><b>In a Jupyter environment, please rerun this cell to show the HTML representation or trust the notebook. <br />On GitHub, the HTML representation is unable to render, please try loading this page with nbviewer.org.</b></div><div class=\"sk-container\" hidden><div class=\"sk-item\"><div class=\"sk-estimator sk-toggleable\"><input class=\"sk-toggleable__control sk-hidden--visually\" id=\"sk-estimator-id-5\" type=\"checkbox\" checked><label for=\"sk-estimator-id-5\" class=\"sk-toggleable__label sk-toggleable__label-arrow\">LinearRegression</label><div class=\"sk-toggleable__content\"><pre>LinearRegression()</pre></div></div></div></div></div>"
      ],
      "text/plain": [
       "LinearRegression()"
      ]
     },
     "execution_count": 77,
     "metadata": {},
     "output_type": "execute_result"
    }
   ],
   "source": [
    "poly_reg.fit(x_train_poly,y_train)"
   ]
  },
  {
   "cell_type": "code",
   "execution_count": 79,
   "id": "cc64dd75-b70e-4196-9d92-c718c8fde60b",
   "metadata": {},
   "outputs": [
    {
     "data": {
      "text/plain": [
       "array([[3.24899961, 1.3628548 ]])"
      ]
     },
     "execution_count": 79,
     "metadata": {},
     "output_type": "execute_result"
    }
   ],
   "source": [
    "poly_reg.coef_"
   ]
  },
  {
   "cell_type": "code",
   "execution_count": 87,
   "id": "78f800c0-73cf-4cee-ae70-a5fa5dd29575",
   "metadata": {},
   "outputs": [],
   "source": [
    "y_pred=poly_reg.predict(x_train_poly)"
   ]
  },
  {
   "cell_type": "code",
   "execution_count": 89,
   "id": "4a16ef7a-fc51-43d8-b768-80610c45336e",
   "metadata": {},
   "outputs": [
    {
     "data": {
      "text/plain": [
       "<matplotlib.collections.PathCollection at 0x22e88c03d10>"
      ]
     },
     "execution_count": 89,
     "metadata": {},
     "output_type": "execute_result"
    },
    {
     "data": {
      "image/png": "[encoded data removed]",
      "text/plain": [
       "<Figure size 640x480 with 1 Axes>"
      ]
     },
     "metadata": {},
     "output_type": "display_data"
    }
   ],
   "source": [
    "plt.scatter(x_train,y_train)"
   ]
  },
  {
   "cell_type": "code",
   "execution_count": 91,
   "id": "9fb29f1a-1fe9-4479-8aa1-ef69c1d211b3",
   "metadata": {},
   "outputs": [],
   "source": [
    "from sklearn.metrics import mean_squared_error"
   ]
  },
  {
   "cell_type": "code",
   "execution_count": 99,
   "id": "3ce1812f-4daf-4f04-8185-bac23150ed51",
   "metadata": {},
   "outputs": [
    {
     "data": {
      "text/plain": [
       "0.10690048967500806"
      ]
     },
     "execution_count": 99,
     "metadata": {},
     "output_type": "execute_result"
    }
   ],
   "source": [
    " mean_squared_error(y_train,y_pred)"
   ]
  },
  {
   "cell_type": "code",
   "execution_count": null,
   "id": "d93f0fad-344e-4f92-9e50-c56345010787",
   "metadata": {},
   "outputs": [],
   "source": []
  }
 ],
 "metadata": {
  "kernelspec": {
   "display_name": "Python 3 (ipykernel)",
   "language": "python",
   "name": "python3"
  },
  "language_info": {
   "codemirror_mode": {
    "name": "ipython",
    "version": 3
   },
   "file_extension": ".py",
   "mimetype": "text/x-python",
   "name": "python",
   "nbconvert_exporter": "python",
   "pygments_lexer": "ipython3",
   "version": "3.11.5"
  }
 },
 "nbformat": 4,
 "nbformat_minor": 5
}
