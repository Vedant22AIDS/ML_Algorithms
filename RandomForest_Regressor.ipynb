{
 "cells": [
  {
   "cell_type": "code",
   "execution_count": 2,
   "id": "9fdd336b-c8ab-47b9-87d1-a832244fbc62",
   "metadata": {},
   "outputs": [],
   "source": [
    "import pandas as pd\n",
    "import numpy as np\n",
    "import matplotlib.pyplot as plt\n",
    "import seaborn as sns\n",
    "\n",
    "import warnings\n",
    "warnings.filterwarnings(\"ignore\")"
   ]
  },
  {
   "cell_type": "code",
   "execution_count": 4,
   "id": "c9235e3c-afc4-4537-81f2-39db220e8f73",
   "metadata": {},
   "outputs": [
    {
     "data": {
      "text/html": [
       "<div>\n",
       "<style scoped>\n",
       "    .dataframe tbody tr th:only-of-type {\n",
       "        vertical-align: middle;\n",
       "    }\n",
       "\n",
       "    .dataframe tbody tr th {\n",
       "        vertical-align: top;\n",
       "    }\n",
       "\n",
       "    .dataframe thead th {\n",
       "        text-align: right;\n",
       "    }\n",
       "</style>\n",
       "<table border=\"1\" class=\"dataframe\">\n",
       "  <thead>\n",
       "    <tr style=\"text-align: right;\">\n",
       "      <th></th>\n",
       "      <th>total_bill</th>\n",
       "      <th>tip</th>\n",
       "      <th>sex</th>\n",
       "      <th>smoker</th>\n",
       "      <th>day</th>\n",
       "      <th>time</th>\n",
       "      <th>size</th>\n",
       "    </tr>\n",
       "  </thead>\n",
       "  <tbody>\n",
       "    <tr>\n",
       "      <th>0</th>\n",
       "      <td>16.99</td>\n",
       "      <td>1.01</td>\n",
       "      <td>Female</td>\n",
       "      <td>No</td>\n",
       "      <td>Sun</td>\n",
       "      <td>Dinner</td>\n",
       "      <td>2</td>\n",
       "    </tr>\n",
       "    <tr>\n",
       "      <th>1</th>\n",
       "      <td>10.34</td>\n",
       "      <td>1.66</td>\n",
       "      <td>Male</td>\n",
       "      <td>No</td>\n",
       "      <td>Sun</td>\n",
       "      <td>Dinner</td>\n",
       "      <td>3</td>\n",
       "    </tr>\n",
       "    <tr>\n",
       "      <th>2</th>\n",
       "      <td>21.01</td>\n",
       "      <td>3.50</td>\n",
       "      <td>Male</td>\n",
       "      <td>No</td>\n",
       "      <td>Sun</td>\n",
       "      <td>Dinner</td>\n",
       "      <td>3</td>\n",
       "    </tr>\n",
       "    <tr>\n",
       "      <th>3</th>\n",
       "      <td>23.68</td>\n",
       "      <td>3.31</td>\n",
       "      <td>Male</td>\n",
       "      <td>No</td>\n",
       "      <td>Sun</td>\n",
       "      <td>Dinner</td>\n",
       "      <td>2</td>\n",
       "    </tr>\n",
       "    <tr>\n",
       "      <th>4</th>\n",
       "      <td>24.59</td>\n",
       "      <td>3.61</td>\n",
       "      <td>Female</td>\n",
       "      <td>No</td>\n",
       "      <td>Sun</td>\n",
       "      <td>Dinner</td>\n",
       "      <td>4</td>\n",
       "    </tr>\n",
       "  </tbody>\n",
       "</table>\n",
       "</div>"
      ],
      "text/plain": [
       "   total_bill   tip     sex smoker  day    time  size\n",
       "0       16.99  1.01  Female     No  Sun  Dinner     2\n",
       "1       10.34  1.66    Male     No  Sun  Dinner     3\n",
       "2       21.01  3.50    Male     No  Sun  Dinner     3\n",
       "3       23.68  3.31    Male     No  Sun  Dinner     2\n",
       "4       24.59  3.61  Female     No  Sun  Dinner     4"
      ]
     },
     "execution_count": 4,
     "metadata": {},
     "output_type": "execute_result"
    }
   ],
   "source": [
    "df = sns.load_dataset(\"tips\")\n",
    "df.head()"
   ]
  },
  {
   "cell_type": "code",
   "execution_count": 6,
   "id": "dd4afbc8-8e86-492e-98f7-5a677fd93a21",
   "metadata": {},
   "outputs": [],
   "source": [
    "X = df.drop('total_bill', axis =1)\n",
    "y = df['total_bill']"
   ]
  },
  {
   "cell_type": "code",
   "execution_count": 8,
   "id": "e653b065-6003-4543-b7d7-ea7f0977fee3",
   "metadata": {},
   "outputs": [],
   "source": [
    "from sklearn.model_selection import train_test_split\n",
    "X_train, X_test, y_train, y_test = train_test_split(X, y, test_size=0.20, random_state=1)"
   ]
  },
  {
   "cell_type": "code",
   "execution_count": 10,
   "id": "6ef82712-d133-4810-b281-bdef8be6f0ad",
   "metadata": {},
   "outputs": [],
   "source": [
    "#Handling the missing value\n",
    "#data encoding\n",
    "#feature scaling\n",
    "\n",
    "from sklearn.impute import SimpleImputer #for missing vlaue\n",
    "from sklearn.preprocessing import OneHotEncoder #for encoding\n",
    "from sklearn.preprocessing import StandardScaler #for scaling\n",
    "\n",
    "from sklearn.pipeline import Pipeline #A sequence of data transformers \n",
    "from sklearn.compose import ColumnTransformer #Groups all the pipeline steps for each of the clumns"
   ]
  },
  {
   "cell_type": "code",
   "execution_count": 12,
   "id": "ca93eea2-f60b-43f9-b088-6ce5937c367f",
   "metadata": {},
   "outputs": [],
   "source": [
    "cat_cols = [\"sex\", \"smoker\", \"day\", \"time\"]\n",
    "num_cols = [\"tip\", \"size\"]"
   ]
  },
  {
   "cell_type": "code",
   "execution_count": 14,
   "id": "793e3963-33ea-4fec-8d9d-cada15a9c56e",
   "metadata": {},
   "outputs": [],
   "source": [
    "#feature engineering automation using pipeline and columntransformer\n",
    "\n",
    "num_pipeline = Pipeline(steps = [('imputation', SimpleImputer(strategy = \"median\")),\n",
    "                                ('scaling', StandardScaler())])\n",
    "cat_pipeline = Pipeline(steps = [('imputation', SimpleImputer(strategy = \"most_frequent\")),\n",
    "                                ('encoding', OneHotEncoder())])"
   ]
  },
  {
   "cell_type": "code",
   "execution_count": 16,
   "id": "b89a9639-9db0-4df1-b2cb-72dee8873823",
   "metadata": {},
   "outputs": [],
   "source": [
    "preprocessor = ColumnTransformer([(\"num_pipeline\", num_pipeline, num_cols),\n",
    "                  (\"cat_pipeline\", cat_pipeline, cat_cols)])"
   ]
  },
  {
   "cell_type": "code",
   "execution_count": 18,
   "id": "6605330b-8c3a-4ddd-b4d2-adc479647d58",
   "metadata": {},
   "outputs": [],
   "source": [
    "X_train = preprocessor.fit_transform(X_train)\n",
    "X_test = preprocessor.transform(X_test)"
   ]
  },
  {
   "cell_type": "code",
   "execution_count": 20,
   "id": "51213e80-af33-4889-a186-0ac190061c05",
   "metadata": {},
   "outputs": [],
   "source": [
    "from sklearn.ensemble import RandomForestRegressor"
   ]
  },
  {
   "cell_type": "code",
   "execution_count": 22,
   "id": "f1713b6b-16ea-43ac-9b02-c173da23695a",
   "metadata": {},
   "outputs": [],
   "source": [
    "rfr = RandomForestRegressor(oob_score=True)"
   ]
  },
  {
   "cell_type": "code",
   "execution_count": 24,
   "id": "fb6b845a-fb47-4bfe-b2dc-99153fd8f6b1",
   "metadata": {},
   "outputs": [
    {
     "data": {
      "text/html": [
       "<style>#sk-container-id-1 {color: black;}#sk-container-id-1 pre{padding: 0;}#sk-container-id-1 div.sk-toggleable {background-color: white;}#sk-container-id-1 label.sk-toggleable__label {cursor: pointer;display: block;width: 100%;margin-bottom: 0;padding: 0.3em;box-sizing: border-box;text-align: center;}#sk-container-id-1 label.sk-toggleable__label-arrow:before {content: \"▸\";float: left;margin-right: 0.25em;color: #696969;}#sk-container-id-1 label.sk-toggleable__label-arrow:hover:before {color: black;}#sk-container-id-1 div.sk-estimator:hover label.sk-toggleable__label-arrow:before {color: black;}#sk-container-id-1 div.sk-toggleable__content {max-height: 0;max-width: 0;overflow: hidden;text-align: left;background-color: #f0f8ff;}#sk-container-id-1 div.sk-toggleable__content pre {margin: 0.2em;color: black;border-radius: 0.25em;background-color: #f0f8ff;}#sk-container-id-1 input.sk-toggleable__control:checked~div.sk-toggleable__content {max-height: 200px;max-width: 100%;overflow: auto;}#sk-container-id-1 input.sk-toggleable__control:checked~label.sk-toggleable__label-arrow:before {content: \"▾\";}#sk-container-id-1 div.sk-estimator input.sk-toggleable__control:checked~label.sk-toggleable__label {background-color: #d4ebff;}#sk-container-id-1 div.sk-label input.sk-toggleable__control:checked~label.sk-toggleable__label {background-color: #d4ebff;}#sk-container-id-1 input.sk-hidden--visually {border: 0;clip: rect(1px 1px 1px 1px);clip: rect(1px, 1px, 1px, 1px);height: 1px;margin: -1px;overflow: hidden;padding: 0;position: absolute;width: 1px;}#sk-container-id-1 div.sk-estimator {font-family: monospace;background-color: #f0f8ff;border: 1px dotted black;border-radius: 0.25em;box-sizing: border-box;margin-bottom: 0.5em;}#sk-container-id-1 div.sk-estimator:hover {background-color: #d4ebff;}#sk-container-id-1 div.sk-parallel-item::after {content: \"\";width: 100%;border-bottom: 1px solid gray;flex-grow: 1;}#sk-container-id-1 div.sk-label:hover label.sk-toggleable__label {background-color: #d4ebff;}#sk-container-id-1 div.sk-serial::before {content: \"\";position: absolute;border-left: 1px solid gray;box-sizing: border-box;top: 0;bottom: 0;left: 50%;z-index: 0;}#sk-container-id-1 div.sk-serial {display: flex;flex-direction: column;align-items: center;background-color: white;padding-right: 0.2em;padding-left: 0.2em;position: relative;}#sk-container-id-1 div.sk-item {position: relative;z-index: 1;}#sk-container-id-1 div.sk-parallel {display: flex;align-items: stretch;justify-content: center;background-color: white;position: relative;}#sk-container-id-1 div.sk-item::before, #sk-container-id-1 div.sk-parallel-item::before {content: \"\";position: absolute;border-left: 1px solid gray;box-sizing: border-box;top: 0;bottom: 0;left: 50%;z-index: -1;}#sk-container-id-1 div.sk-parallel-item {display: flex;flex-direction: column;z-index: 1;position: relative;background-color: white;}#sk-container-id-1 div.sk-parallel-item:first-child::after {align-self: flex-end;width: 50%;}#sk-container-id-1 div.sk-parallel-item:last-child::after {align-self: flex-start;width: 50%;}#sk-container-id-1 div.sk-parallel-item:only-child::after {width: 0;}#sk-container-id-1 div.sk-dashed-wrapped {border: 1px dashed gray;margin: 0 0.4em 0.5em 0.4em;box-sizing: border-box;padding-bottom: 0.4em;background-color: white;}#sk-container-id-1 div.sk-label label {font-family: monospace;font-weight: bold;display: inline-block;line-height: 1.2em;}#sk-container-id-1 div.sk-label-container {text-align: center;}#sk-container-id-1 div.sk-container {/* jupyter's `normalize.less` sets `[hidden] { display: none; }` but bootstrap.min.css set `[hidden] { display: none !important; }` so we also need the `!important` here to be able to override the default hidden behavior on the sphinx rendered scikit-learn.org. See: https://github.com/scikit-learn/scikit-learn/issues/21755 */display: inline-block !important;position: relative;}#sk-container-id-1 div.sk-text-repr-fallback {display: none;}</style><div id=\"sk-container-id-1\" class=\"sk-top-container\"><div class=\"sk-text-repr-fallback\"><pre>RandomForestRegressor(oob_score=True)</pre><b>In a Jupyter environment, please rerun this cell to show the HTML representation or trust the notebook. <br />On GitHub, the HTML representation is unable to render, please try loading this page with nbviewer.org.</b></div><div class=\"sk-container\" hidden><div class=\"sk-item\"><div class=\"sk-estimator sk-toggleable\"><input class=\"sk-toggleable__control sk-hidden--visually\" id=\"sk-estimator-id-1\" type=\"checkbox\" checked><label for=\"sk-estimator-id-1\" class=\"sk-toggleable__label sk-toggleable__label-arrow\">RandomForestRegressor</label><div class=\"sk-toggleable__content\"><pre>RandomForestRegressor(oob_score=True)</pre></div></div></div></div></div>"
      ],
      "text/plain": [
       "RandomForestRegressor(oob_score=True)"
      ]
     },
     "execution_count": 24,
     "metadata": {},
     "output_type": "execute_result"
    }
   ],
   "source": [
    "rfr"
   ]
  },
  {
   "cell_type": "code",
   "execution_count": 26,
   "id": "73fa805e-4e1d-400b-bc76-094021952486",
   "metadata": {},
   "outputs": [],
   "source": [
    "from sklearn.model_selection import RandomizedSearchCV\n",
    "params={'max_depth':[1,50, 100, 150,200],\n",
    "        'n_estimators':[50, 100,200]}"
   ]
  },
  {
   "cell_type": "code",
   "execution_count": 28,
   "id": "03dba7a7-dd42-445d-b612-181dc785af99",
   "metadata": {},
   "outputs": [],
   "source": [
    "reg = RandomizedSearchCV(rfr, param_distributions=params, cv = 5, verbose =3, scoring = 'r2')"
   ]
  },
  {
   "cell_type": "code",
   "execution_count": 30,
   "id": "349a666f-6af0-4a97-91f5-4b7c31acb808",
   "metadata": {},
   "outputs": [
    {
     "name": "stdout",
     "output_type": "stream",
     "text": [
      "Fitting 5 folds for each of 10 candidates, totalling 50 fits\n",
      "[CV 1/5] END ....max_depth=50, n_estimators=200;, score=0.306 total time=   0.5s\n",
      "[CV 2/5] END ....max_depth=50, n_estimators=200;, score=0.483 total time=   0.5s\n",
      "[CV 3/5] END ....max_depth=50, n_estimators=200;, score=0.156 total time=   0.6s\n",
      "[CV 4/5] END ....max_depth=50, n_estimators=200;, score=0.626 total time=   0.6s\n",
      "[CV 5/5] END ....max_depth=50, n_estimators=200;, score=0.358 total time=   0.5s\n",
      "[CV 1/5] END ...max_depth=100, n_estimators=100;, score=0.329 total time=   0.2s\n",
      "[CV 2/5] END ...max_depth=100, n_estimators=100;, score=0.507 total time=   0.2s\n",
      "[CV 3/5] END ...max_depth=100, n_estimators=100;, score=0.163 total time=   0.2s\n",
      "[CV 4/5] END ...max_depth=100, n_estimators=100;, score=0.542 total time=   0.2s\n",
      "[CV 5/5] END ...max_depth=100, n_estimators=100;, score=0.354 total time=   0.2s\n",
      "[CV 1/5] END ...max_depth=150, n_estimators=100;, score=0.298 total time=   0.2s\n",
      "[CV 2/5] END ...max_depth=150, n_estimators=100;, score=0.464 total time=   0.2s\n",
      "[CV 3/5] END ...max_depth=150, n_estimators=100;, score=0.228 total time=   0.2s\n",
      "[CV 4/5] END ...max_depth=150, n_estimators=100;, score=0.633 total time=   0.2s\n",
      "[CV 5/5] END ...max_depth=150, n_estimators=100;, score=0.358 total time=   0.2s\n",
      "[CV 1/5] END .....max_depth=1, n_estimators=100;, score=0.196 total time=   0.1s\n",
      "[CV 2/5] END .....max_depth=1, n_estimators=100;, score=0.260 total time=   0.1s\n",
      "[CV 3/5] END .....max_depth=1, n_estimators=100;, score=0.365 total time=   0.1s\n",
      "[CV 4/5] END .....max_depth=1, n_estimators=100;, score=0.494 total time=   0.1s\n",
      "[CV 5/5] END .....max_depth=1, n_estimators=100;, score=0.404 total time=   0.1s\n",
      "[CV 1/5] END ...max_depth=100, n_estimators=200;, score=0.304 total time=   0.5s\n",
      "[CV 2/5] END ...max_depth=100, n_estimators=200;, score=0.494 total time=   0.6s\n",
      "[CV 3/5] END ...max_depth=100, n_estimators=200;, score=0.238 total time=   0.5s\n",
      "[CV 4/5] END ...max_depth=100, n_estimators=200;, score=0.610 total time=   0.6s\n",
      "[CV 5/5] END ...max_depth=100, n_estimators=200;, score=0.367 total time=   0.5s\n",
      "[CV 1/5] END ...max_depth=150, n_estimators=200;, score=0.303 total time=   0.7s\n",
      "[CV 2/5] END ...max_depth=150, n_estimators=200;, score=0.499 total time=   0.6s\n",
      "[CV 3/5] END ...max_depth=150, n_estimators=200;, score=0.228 total time=   0.5s\n",
      "[CV 4/5] END ...max_depth=150, n_estimators=200;, score=0.578 total time=   0.6s\n",
      "[CV 5/5] END ...max_depth=150, n_estimators=200;, score=0.347 total time=   0.6s\n",
      "[CV 1/5] END ......max_depth=1, n_estimators=50;, score=0.228 total time=   0.0s\n",
      "[CV 2/5] END ......max_depth=1, n_estimators=50;, score=0.239 total time=   0.0s\n",
      "[CV 3/5] END ......max_depth=1, n_estimators=50;, score=0.399 total time=   0.0s\n",
      "[CV 4/5] END ......max_depth=1, n_estimators=50;, score=0.488 total time=   0.0s\n",
      "[CV 5/5] END ......max_depth=1, n_estimators=50;, score=0.398 total time=   0.0s\n",
      "[CV 1/5] END ....max_depth=50, n_estimators=100;, score=0.298 total time=   0.2s\n",
      "[CV 2/5] END ....max_depth=50, n_estimators=100;, score=0.487 total time=   0.2s\n",
      "[CV 3/5] END ....max_depth=50, n_estimators=100;, score=0.230 total time=   0.2s\n",
      "[CV 4/5] END ....max_depth=50, n_estimators=100;, score=0.613 total time=   0.2s\n",
      "[CV 5/5] END ....max_depth=50, n_estimators=100;, score=0.346 total time=   0.2s\n",
      "[CV 1/5] END ....max_depth=100, n_estimators=50;, score=0.349 total time=   0.1s\n",
      "[CV 2/5] END ....max_depth=100, n_estimators=50;, score=0.474 total time=   0.1s\n",
      "[CV 3/5] END ....max_depth=100, n_estimators=50;, score=0.295 total time=   0.0s\n",
      "[CV 4/5] END ....max_depth=100, n_estimators=50;, score=0.593 total time=   0.0s\n",
      "[CV 5/5] END ....max_depth=100, n_estimators=50;, score=0.334 total time=   0.0s\n",
      "[CV 1/5] END .....max_depth=50, n_estimators=50;, score=0.286 total time=   0.0s\n",
      "[CV 2/5] END .....max_depth=50, n_estimators=50;, score=0.479 total time=   0.0s\n",
      "[CV 3/5] END .....max_depth=50, n_estimators=50;, score=0.269 total time=   0.0s\n",
      "[CV 4/5] END .....max_depth=50, n_estimators=50;, score=0.563 total time=   0.1s\n",
      "[CV 5/5] END .....max_depth=50, n_estimators=50;, score=0.379 total time=   0.0s\n"
     ]
    },
    {
     "data": {
      "text/html": [
       "<style>#sk-container-id-2 {color: black;}#sk-container-id-2 pre{padding: 0;}#sk-container-id-2 div.sk-toggleable {background-color: white;}#sk-container-id-2 label.sk-toggleable__label {cursor: pointer;display: block;width: 100%;margin-bottom: 0;padding: 0.3em;box-sizing: border-box;text-align: center;}#sk-container-id-2 label.sk-toggleable__label-arrow:before {content: \"▸\";float: left;margin-right: 0.25em;color: #696969;}#sk-container-id-2 label.sk-toggleable__label-arrow:hover:before {color: black;}#sk-container-id-2 div.sk-estimator:hover label.sk-toggleable__label-arrow:before {color: black;}#sk-container-id-2 div.sk-toggleable__content {max-height: 0;max-width: 0;overflow: hidden;text-align: left;background-color: #f0f8ff;}#sk-container-id-2 div.sk-toggleable__content pre {margin: 0.2em;color: black;border-radius: 0.25em;background-color: #f0f8ff;}#sk-container-id-2 input.sk-toggleable__control:checked~div.sk-toggleable__content {max-height: 200px;max-width: 100%;overflow: auto;}#sk-container-id-2 input.sk-toggleable__control:checked~label.sk-toggleable__label-arrow:before {content: \"▾\";}#sk-container-id-2 div.sk-estimator input.sk-toggleable__control:checked~label.sk-toggleable__label {background-color: #d4ebff;}#sk-container-id-2 div.sk-label input.sk-toggleable__control:checked~label.sk-toggleable__label {background-color: #d4ebff;}#sk-container-id-2 input.sk-hidden--visually {border: 0;clip: rect(1px 1px 1px 1px);clip: rect(1px, 1px, 1px, 1px);height: 1px;margin: -1px;overflow: hidden;padding: 0;position: absolute;width: 1px;}#sk-container-id-2 div.sk-estimator {font-family: monospace;background-color: #f0f8ff;border: 1px dotted black;border-radius: 0.25em;box-sizing: border-box;margin-bottom: 0.5em;}#sk-container-id-2 div.sk-estimator:hover {background-color: #d4ebff;}#sk-container-id-2 div.sk-parallel-item::after {content: \"\";width: 100%;border-bottom: 1px solid gray;flex-grow: 1;}#sk-container-id-2 div.sk-label:hover label.sk-toggleable__label {background-color: #d4ebff;}#sk-container-id-2 div.sk-serial::before {content: \"\";position: absolute;border-left: 1px solid gray;box-sizing: border-box;top: 0;bottom: 0;left: 50%;z-index: 0;}#sk-container-id-2 div.sk-serial {display: flex;flex-direction: column;align-items: center;background-color: white;padding-right: 0.2em;padding-left: 0.2em;position: relative;}#sk-container-id-2 div.sk-item {position: relative;z-index: 1;}#sk-container-id-2 div.sk-parallel {display: flex;align-items: stretch;justify-content: center;background-color: white;position: relative;}#sk-container-id-2 div.sk-item::before, #sk-container-id-2 div.sk-parallel-item::before {content: \"\";position: absolute;border-left: 1px solid gray;box-sizing: border-box;top: 0;bottom: 0;left: 50%;z-index: -1;}#sk-container-id-2 div.sk-parallel-item {display: flex;flex-direction: column;z-index: 1;position: relative;background-color: white;}#sk-container-id-2 div.sk-parallel-item:first-child::after {align-self: flex-end;width: 50%;}#sk-container-id-2 div.sk-parallel-item:last-child::after {align-self: flex-start;width: 50%;}#sk-container-id-2 div.sk-parallel-item:only-child::after {width: 0;}#sk-container-id-2 div.sk-dashed-wrapped {border: 1px dashed gray;margin: 0 0.4em 0.5em 0.4em;box-sizing: border-box;padding-bottom: 0.4em;background-color: white;}#sk-container-id-2 div.sk-label label {font-family: monospace;font-weight: bold;display: inline-block;line-height: 1.2em;}#sk-container-id-2 div.sk-label-container {text-align: center;}#sk-container-id-2 div.sk-container {/* jupyter's `normalize.less` sets `[hidden] { display: none; }` but bootstrap.min.css set `[hidden] { display: none !important; }` so we also need the `!important` here to be able to override the default hidden behavior on the sphinx rendered scikit-learn.org. See: https://github.com/scikit-learn/scikit-learn/issues/21755 */display: inline-block !important;position: relative;}#sk-container-id-2 div.sk-text-repr-fallback {display: none;}</style><div id=\"sk-container-id-2\" class=\"sk-top-container\"><div class=\"sk-text-repr-fallback\"><pre>RandomizedSearchCV(cv=5, estimator=RandomForestRegressor(oob_score=True),\n",
       "                   param_distributions={&#x27;max_depth&#x27;: [1, 50, 100, 150, 200],\n",
       "                                        &#x27;n_estimators&#x27;: [50, 100, 200]},\n",
       "                   scoring=&#x27;r2&#x27;, verbose=3)</pre><b>In a Jupyter environment, please rerun this cell to show the HTML representation or trust the notebook. <br />On GitHub, the HTML representation is unable to render, please try loading this page with nbviewer.org.</b></div><div class=\"sk-container\" hidden><div class=\"sk-item sk-dashed-wrapped\"><div class=\"sk-label-container\"><div class=\"sk-label sk-toggleable\"><input class=\"sk-toggleable__control sk-hidden--visually\" id=\"sk-estimator-id-2\" type=\"checkbox\" ><label for=\"sk-estimator-id-2\" class=\"sk-toggleable__label sk-toggleable__label-arrow\">RandomizedSearchCV</label><div class=\"sk-toggleable__content\"><pre>RandomizedSearchCV(cv=5, estimator=RandomForestRegressor(oob_score=True),\n",
       "                   param_distributions={&#x27;max_depth&#x27;: [1, 50, 100, 150, 200],\n",
       "                                        &#x27;n_estimators&#x27;: [50, 100, 200]},\n",
       "                   scoring=&#x27;r2&#x27;, verbose=3)</pre></div></div></div><div class=\"sk-parallel\"><div class=\"sk-parallel-item\"><div class=\"sk-item\"><div class=\"sk-label-container\"><div class=\"sk-label sk-toggleable\"><input class=\"sk-toggleable__control sk-hidden--visually\" id=\"sk-estimator-id-3\" type=\"checkbox\" ><label for=\"sk-estimator-id-3\" class=\"sk-toggleable__label sk-toggleable__label-arrow\">estimator: RandomForestRegressor</label><div class=\"sk-toggleable__content\"><pre>RandomForestRegressor(oob_score=True)</pre></div></div></div><div class=\"sk-serial\"><div class=\"sk-item\"><div class=\"sk-estimator sk-toggleable\"><input class=\"sk-toggleable__control sk-hidden--visually\" id=\"sk-estimator-id-4\" type=\"checkbox\" ><label for=\"sk-estimator-id-4\" class=\"sk-toggleable__label sk-toggleable__label-arrow\">RandomForestRegressor</label><div class=\"sk-toggleable__content\"><pre>RandomForestRegressor(oob_score=True)</pre></div></div></div></div></div></div></div></div></div></div>"
      ],
      "text/plain": [
       "RandomizedSearchCV(cv=5, estimator=RandomForestRegressor(oob_score=True),\n",
       "                   param_distributions={'max_depth': [1, 50, 100, 150, 200],\n",
       "                                        'n_estimators': [50, 100, 200]},\n",
       "                   scoring='r2', verbose=3)"
      ]
     },
     "execution_count": 30,
     "metadata": {},
     "output_type": "execute_result"
    }
   ],
   "source": [
    "reg.fit(X_train, y_train)"
   ]
  },
  {
   "cell_type": "code",
   "execution_count": 33,
   "id": "e37b2abb-1209-4f43-9aa6-fbcd208ef756",
   "metadata": {},
   "outputs": [
    {
     "data": {
      "text/plain": [
       "{'n_estimators': 50, 'max_depth': 100}"
      ]
     },
     "execution_count": 33,
     "metadata": {},
     "output_type": "execute_result"
    }
   ],
   "source": [
    "reg.best_params_"
   ]
  },
  {
   "cell_type": "code",
   "execution_count": 35,
   "id": "10cd6da6-48f2-4397-ab2c-feb27209655f",
   "metadata": {},
   "outputs": [
    {
     "data": {
      "text/plain": [
       "0.4090403628835836"
      ]
     },
     "execution_count": 35,
     "metadata": {},
     "output_type": "execute_result"
    }
   ],
   "source": [
    "reg.best_score_"
   ]
  },
  {
   "cell_type": "code",
   "execution_count": null,
   "id": "48c5d8af-b5b3-4b20-b85b-d0293c1e8e85",
   "metadata": {},
   "outputs": [],
   "source": []
  }
 ],
 "metadata": {
  "kernelspec": {
   "display_name": "Python 3 (ipykernel)",
   "language": "python",
   "name": "python3"
  },
  "language_info": {
   "codemirror_mode": {
    "name": "ipython",
    "version": 3
   },
   "file_extension": ".py",
   "mimetype": "text/x-python",
   "name": "python",
   "nbconvert_exporter": "python",
   "pygments_lexer": "ipython3",
   "version": "3.11.5"
  }
 },
 "nbformat": 4,
 "nbformat_minor": 5
}
